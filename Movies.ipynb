{
  "nbformat": 4,
  "nbformat_minor": 0,
  "metadata": {
    "colab": {
      "provenance": []
    },
    "kernelspec": {
      "name": "python3",
      "display_name": "Python 3"
    },
    "language_info": {
      "name": "python"
    }
  },
  "cells": [
    {
      "cell_type": "markdown",
      "source": [
        "# Exploratory Data Analysis"
      ],
      "metadata": {
        "id": "xp_MHz6XT_u5"
      }
    },
    {
      "cell_type": "code",
      "source": [
        "import pandas as pd\n",
        "import numpy as np\n",
        "from datetime import datetime\n",
        "\n"
      ],
      "metadata": {
        "id": "P5w34bXpT8o9"
      },
      "execution_count": 151,
      "outputs": []
    },
    {
      "cell_type": "code",
      "source": [
        "df = pd.read_csv(\"movie_statistic_dataset.csv\")\n",
        "df.columns = df.columns.str.lower().str.replace('$', '').str.replace(' ', '_')"
      ],
      "metadata": {
        "colab": {
          "base_uri": "https://localhost:8080/"
        },
        "id": "iC3U1AP_Fy5T",
        "outputId": "e3af20e6-b9b5-437e-db88-372f4d468cec"
      },
      "execution_count": 152,
      "outputs": [
        {
          "output_type": "stream",
          "name": "stderr",
          "text": [
            "<ipython-input-152-28621a4cda64>:2: FutureWarning: The default value of regex will change from True to False in a future version. In addition, single character regular expressions will *not* be treated as literal strings when regex=True.\n",
            "  df.columns = df.columns.str.lower().str.replace('$', '').str.replace(' ', '_')\n"
          ]
        }
      ]
    },
    {
      "cell_type": "code",
      "source": [
        "# Custom function to split the string and fill in \"No Genre\" if elements are missing;\n",
        "# \"No Genre\" is better than NA in this scenario because we are going to encode the column later on\n",
        "def split_genres(s):\n",
        "    genres = s.split(\",\")\n",
        "    if len(genres) >= 3:\n",
        "        return genres[0], genres[1], genres[2]\n",
        "    elif len(genres) == 2:\n",
        "        return genres[0], genres[1], \"No Genre\"\n",
        "    elif len(genres) == 1:\n",
        "        return genres[0], \"No Genre\",\"No Genre\"\n",
        "    else:\n",
        "        return \"No Genre\",\"No Genre\",\"No Genre\"\n",
        "\n",
        "# Apply the custom function to create new columns\n",
        "df['genre1'], df['genre2'], df['genre3'] = zip(*df['genres'].apply(split_genres))\n",
        "\n",
        "#custom function to split director_professions\n",
        "def split_jobs(s):\n",
        "    jobs = s.split(\",\")\n",
        "    if len(jobs) >= 3:\n",
        "        return jobs[0], jobs[1], jobs[2]\n",
        "    elif len(jobs) == 2:\n",
        "        return jobs[0], jobs[1], \"No director\"\n",
        "    elif len(jobs) == 1:\n",
        "        return jobs[0], \"No director\",\"No director\"\n",
        "    else:\n",
        "        return \"No director\",\"No director\",\"No director\"\n",
        "\n",
        "# Apply the custom function to create new columns\n",
        "#df['job1'], df['job2'], df['job3'] = zip(*df['director_professions'].apply(split_jobs))\n",
        "\n",
        "#adding custom dummies\n",
        "df['director'] = df[\"director_professions\"].apply(lambda x: 1 if \"director\" in x.split(\",\") else 0)\n",
        "df['writer'] = df[\"director_professions\"].apply(lambda x: 1 if \"writer\" in x.split(\",\") else 0)\n",
        "df['producer'] = df[\"director_professions\"].apply(lambda x: 1 if \"producer\" in x.split(\",\") else 0)\n",
        "df['actor'] = df[\"director_professions\"].apply(lambda x: 1 if \"actor\" in x.split(\",\") else 0)\n",
        "\n",
        "\n"
      ],
      "metadata": {
        "id": "CluXuGHtJiAh"
      },
      "execution_count": 153,
      "outputs": []
    },
    {
      "cell_type": "code",
      "source": [
        "#handling these NAs in a specific manner because the columns are being encoded\n",
        "df['genre1'].replace(\"\\\\N\",\"No Genre\",inplace = True)\n",
        "#df['job1'].replace(np.nan,\"No director\",inplace = True)\n",
        "#replace \"-\" and \"\\N\" with null\n",
        "df.replace(\"-\",np.nan,inplace = True)\n",
        "df.replace(\"\\\\N\",np.nan,inplace = True)\n",
        "#changing missing years to zeroes; open to different ideas\n",
        "df['director_birthyear'].replace(np.nan,0,inplace=True)\n",
        "df['director_deathyear'].replace(np.nan,0,inplace=True)\n",
        "df['director_deathyear'].replace(\"alive\",0,inplace=True)"
      ],
      "metadata": {
        "id": "QMeB0NPzFmzY"
      },
      "execution_count": 154,
      "outputs": []
    },
    {
      "cell_type": "code",
      "source": [
        "#check for null values; we ignore the string columns\n",
        "df.isnull().sum()"
      ],
      "metadata": {
        "colab": {
          "base_uri": "https://localhost:8080/"
        },
        "id": "v7_oOQWPLsmX",
        "outputId": "d26066f3-a2bf-457d-83d4-bc807dfb9f2b"
      },
      "execution_count": 155,
      "outputs": [
        {
          "output_type": "execute_result",
          "data": {
            "text/plain": [
              "movie_title               0\n",
              "production_date           0\n",
              "genres                    2\n",
              "runtime_minutes           0\n",
              "director_name           326\n",
              "director_professions    333\n",
              "director_birthyear        0\n",
              "director_deathyear        0\n",
              "movie_averagerating       0\n",
              "movie_numerofvotes        0\n",
              "approval_index            0\n",
              "production_budget_        0\n",
              "domestic_gross_           0\n",
              "worldwide_gross_          0\n",
              "genre1                    0\n",
              "genre2                    0\n",
              "genre3                    0\n",
              "director                  0\n",
              "writer                    0\n",
              "producer                  0\n",
              "actor                     0\n",
              "dtype: int64"
            ]
          },
          "metadata": {},
          "execution_count": 155
        }
      ]
    },
    {
      "cell_type": "code",
      "source": [
        "#I want to break out the production date column; also, fairly certain production means release date\n",
        "from datetime import datetime\n",
        "df['year'] = df.production_date.apply(lambda x:datetime.strptime(x, '%Y-%m-%d').year)\n",
        "df['month'] = df.production_date.apply(lambda x:datetime.strptime(x, '%Y-%m-%d').month)\n",
        "#creating a season column so we can analyze by season if we want; I suspect summer matters, at least historically\n",
        "season_dict = {1:\"Winter\",2:\"Winter\",3:\"Spring\",4:\"Spring\",5:\"Spring\",6:\"Summer\",\n",
        "               7:\"Summer\",8:\"Summer\",9:\"Fall\",10:\"Fall\",11:\"Fall\",12:\"Winter\"}\n",
        "df['season'] = df.production_date.apply(lambda x:season_dict[datetime.strptime(x, '%Y-%m-%d').month])"
      ],
      "metadata": {
        "id": "KxjOEJkAMROR"
      },
      "execution_count": 156,
      "outputs": []
    },
    {
      "cell_type": "code",
      "source": [
        "#Fixing the director_birthyear by setting absent values to 35 years younger than release year\n",
        "def by_function(row):\n",
        "    x = row[\"director_birthyear\"]\n",
        "    y = row[\"year\"]\n",
        "    return y - 35 if x == 0 else x\n",
        "\n",
        "# Apply the function to each row\n",
        "df[\"director_birthyear\"] = df.apply(by_function, axis=1)\n"
      ],
      "metadata": {
        "id": "7hWhKSGEGhw1"
      },
      "execution_count": 157,
      "outputs": []
    },
    {
      "cell_type": "code",
      "source": [
        "df[\"director_birthyear\"] = pd.to_numeric(df[\"director_birthyear\"])\n",
        "df['production_age'] = df['year'] - df[\"director_birthyear\"]\n",
        "df.head()"
      ],
      "metadata": {
        "colab": {
          "base_uri": "https://localhost:8080/",
          "height": 404
        },
        "id": "l3Kd8gM5F2e1",
        "outputId": "924c5c33-0284-46c7-a456-3bbe74175417"
      },
      "execution_count": 158,
      "outputs": [
        {
          "output_type": "execute_result",
          "data": {
            "text/plain": [
              "                                   movie_title production_date  \\\n",
              "0                     Avatar: The Way of Water      2022-12-09   \n",
              "1                            Avengers: Endgame      2019-04-23   \n",
              "2  Pirates of the Caribbean: On Stranger Tides      2011-05-20   \n",
              "3                      Avengers: Age of Ultron      2015-04-22   \n",
              "4                       Avengers: Infinity War      2018-04-25   \n",
              "\n",
              "                     genres  runtime_minutes  director_name  \\\n",
              "0  Action,Adventure,Fantasy            192.0  James Cameron   \n",
              "1    Action,Adventure,Drama            181.0            NaN   \n",
              "2  Action,Adventure,Fantasy            137.0   Rob Marshall   \n",
              "3   Action,Adventure,Sci-Fi            141.0    Joss Whedon   \n",
              "4   Action,Adventure,Sci-Fi            149.0            NaN   \n",
              "\n",
              "              director_professions  director_birthyear director_deathyear  \\\n",
              "0         writer,producer,director                1954                  0   \n",
              "1                              NaN                1984                  0   \n",
              "2  director,miscellaneous,producer                1960                  0   \n",
              "3         writer,producer,director                1964                  0   \n",
              "4                              NaN                1983                  0   \n",
              "\n",
              "   movie_averagerating  movie_numerofvotes  ...     genre2   genre3  director  \\\n",
              "0                  7.8            277543.0  ...  Adventure  Fantasy         1   \n",
              "1                  8.4           1143642.0  ...  Adventure    Drama         0   \n",
              "2                  6.6            533763.0  ...  Adventure  Fantasy         1   \n",
              "3                  7.3            870573.0  ...  Adventure   Sci-Fi         1   \n",
              "4                  8.4           1091968.0  ...  Adventure   Sci-Fi         0   \n",
              "\n",
              "   writer producer actor  year  month  season  production_age  \n",
              "0       1        1     0  2022     12  Winter              68  \n",
              "1       0        0     0  2019      4  Spring              35  \n",
              "2       0        1     0  2011      5  Spring              51  \n",
              "3       1        1     0  2015      4  Spring              51  \n",
              "4       0        0     0  2018      4  Spring              35  \n",
              "\n",
              "[5 rows x 25 columns]"
            ],
            "text/html": [
              "\n",
              "\n",
              "  <div id=\"df-caf68b0d-46b0-4882-92cb-eb1497786889\">\n",
              "    <div class=\"colab-df-container\">\n",
              "      <div>\n",
              "<style scoped>\n",
              "    .dataframe tbody tr th:only-of-type {\n",
              "        vertical-align: middle;\n",
              "    }\n",
              "\n",
              "    .dataframe tbody tr th {\n",
              "        vertical-align: top;\n",
              "    }\n",
              "\n",
              "    .dataframe thead th {\n",
              "        text-align: right;\n",
              "    }\n",
              "</style>\n",
              "<table border=\"1\" class=\"dataframe\">\n",
              "  <thead>\n",
              "    <tr style=\"text-align: right;\">\n",
              "      <th></th>\n",
              "      <th>movie_title</th>\n",
              "      <th>production_date</th>\n",
              "      <th>genres</th>\n",
              "      <th>runtime_minutes</th>\n",
              "      <th>director_name</th>\n",
              "      <th>director_professions</th>\n",
              "      <th>director_birthyear</th>\n",
              "      <th>director_deathyear</th>\n",
              "      <th>movie_averagerating</th>\n",
              "      <th>movie_numerofvotes</th>\n",
              "      <th>...</th>\n",
              "      <th>genre2</th>\n",
              "      <th>genre3</th>\n",
              "      <th>director</th>\n",
              "      <th>writer</th>\n",
              "      <th>producer</th>\n",
              "      <th>actor</th>\n",
              "      <th>year</th>\n",
              "      <th>month</th>\n",
              "      <th>season</th>\n",
              "      <th>production_age</th>\n",
              "    </tr>\n",
              "  </thead>\n",
              "  <tbody>\n",
              "    <tr>\n",
              "      <th>0</th>\n",
              "      <td>Avatar: The Way of Water</td>\n",
              "      <td>2022-12-09</td>\n",
              "      <td>Action,Adventure,Fantasy</td>\n",
              "      <td>192.0</td>\n",
              "      <td>James Cameron</td>\n",
              "      <td>writer,producer,director</td>\n",
              "      <td>1954</td>\n",
              "      <td>0</td>\n",
              "      <td>7.8</td>\n",
              "      <td>277543.0</td>\n",
              "      <td>...</td>\n",
              "      <td>Adventure</td>\n",
              "      <td>Fantasy</td>\n",
              "      <td>1</td>\n",
              "      <td>1</td>\n",
              "      <td>1</td>\n",
              "      <td>0</td>\n",
              "      <td>2022</td>\n",
              "      <td>12</td>\n",
              "      <td>Winter</td>\n",
              "      <td>68</td>\n",
              "    </tr>\n",
              "    <tr>\n",
              "      <th>1</th>\n",
              "      <td>Avengers: Endgame</td>\n",
              "      <td>2019-04-23</td>\n",
              "      <td>Action,Adventure,Drama</td>\n",
              "      <td>181.0</td>\n",
              "      <td>NaN</td>\n",
              "      <td>NaN</td>\n",
              "      <td>1984</td>\n",
              "      <td>0</td>\n",
              "      <td>8.4</td>\n",
              "      <td>1143642.0</td>\n",
              "      <td>...</td>\n",
              "      <td>Adventure</td>\n",
              "      <td>Drama</td>\n",
              "      <td>0</td>\n",
              "      <td>0</td>\n",
              "      <td>0</td>\n",
              "      <td>0</td>\n",
              "      <td>2019</td>\n",
              "      <td>4</td>\n",
              "      <td>Spring</td>\n",
              "      <td>35</td>\n",
              "    </tr>\n",
              "    <tr>\n",
              "      <th>2</th>\n",
              "      <td>Pirates of the Caribbean: On Stranger Tides</td>\n",
              "      <td>2011-05-20</td>\n",
              "      <td>Action,Adventure,Fantasy</td>\n",
              "      <td>137.0</td>\n",
              "      <td>Rob Marshall</td>\n",
              "      <td>director,miscellaneous,producer</td>\n",
              "      <td>1960</td>\n",
              "      <td>0</td>\n",
              "      <td>6.6</td>\n",
              "      <td>533763.0</td>\n",
              "      <td>...</td>\n",
              "      <td>Adventure</td>\n",
              "      <td>Fantasy</td>\n",
              "      <td>1</td>\n",
              "      <td>0</td>\n",
              "      <td>1</td>\n",
              "      <td>0</td>\n",
              "      <td>2011</td>\n",
              "      <td>5</td>\n",
              "      <td>Spring</td>\n",
              "      <td>51</td>\n",
              "    </tr>\n",
              "    <tr>\n",
              "      <th>3</th>\n",
              "      <td>Avengers: Age of Ultron</td>\n",
              "      <td>2015-04-22</td>\n",
              "      <td>Action,Adventure,Sci-Fi</td>\n",
              "      <td>141.0</td>\n",
              "      <td>Joss Whedon</td>\n",
              "      <td>writer,producer,director</td>\n",
              "      <td>1964</td>\n",
              "      <td>0</td>\n",
              "      <td>7.3</td>\n",
              "      <td>870573.0</td>\n",
              "      <td>...</td>\n",
              "      <td>Adventure</td>\n",
              "      <td>Sci-Fi</td>\n",
              "      <td>1</td>\n",
              "      <td>1</td>\n",
              "      <td>1</td>\n",
              "      <td>0</td>\n",
              "      <td>2015</td>\n",
              "      <td>4</td>\n",
              "      <td>Spring</td>\n",
              "      <td>51</td>\n",
              "    </tr>\n",
              "    <tr>\n",
              "      <th>4</th>\n",
              "      <td>Avengers: Infinity War</td>\n",
              "      <td>2018-04-25</td>\n",
              "      <td>Action,Adventure,Sci-Fi</td>\n",
              "      <td>149.0</td>\n",
              "      <td>NaN</td>\n",
              "      <td>NaN</td>\n",
              "      <td>1983</td>\n",
              "      <td>0</td>\n",
              "      <td>8.4</td>\n",
              "      <td>1091968.0</td>\n",
              "      <td>...</td>\n",
              "      <td>Adventure</td>\n",
              "      <td>Sci-Fi</td>\n",
              "      <td>0</td>\n",
              "      <td>0</td>\n",
              "      <td>0</td>\n",
              "      <td>0</td>\n",
              "      <td>2018</td>\n",
              "      <td>4</td>\n",
              "      <td>Spring</td>\n",
              "      <td>35</td>\n",
              "    </tr>\n",
              "  </tbody>\n",
              "</table>\n",
              "<p>5 rows × 25 columns</p>\n",
              "</div>\n",
              "      <button class=\"colab-df-convert\" onclick=\"convertToInteractive('df-caf68b0d-46b0-4882-92cb-eb1497786889')\"\n",
              "              title=\"Convert this dataframe to an interactive table.\"\n",
              "              style=\"display:none;\">\n",
              "\n",
              "  <svg xmlns=\"http://www.w3.org/2000/svg\" height=\"24px\"viewBox=\"0 0 24 24\"\n",
              "       width=\"24px\">\n",
              "    <path d=\"M0 0h24v24H0V0z\" fill=\"none\"/>\n",
              "    <path d=\"M18.56 5.44l.94 2.06.94-2.06 2.06-.94-2.06-.94-.94-2.06-.94 2.06-2.06.94zm-11 1L8.5 8.5l.94-2.06 2.06-.94-2.06-.94L8.5 2.5l-.94 2.06-2.06.94zm10 10l.94 2.06.94-2.06 2.06-.94-2.06-.94-.94-2.06-.94 2.06-2.06.94z\"/><path d=\"M17.41 7.96l-1.37-1.37c-.4-.4-.92-.59-1.43-.59-.52 0-1.04.2-1.43.59L10.3 9.45l-7.72 7.72c-.78.78-.78 2.05 0 2.83L4 21.41c.39.39.9.59 1.41.59.51 0 1.02-.2 1.41-.59l7.78-7.78 2.81-2.81c.8-.78.8-2.07 0-2.86zM5.41 20L4 18.59l7.72-7.72 1.47 1.35L5.41 20z\"/>\n",
              "  </svg>\n",
              "      </button>\n",
              "\n",
              "\n",
              "\n",
              "    <div id=\"df-b39bbf7c-bd74-417f-a198-09b4e28cbd21\">\n",
              "      <button class=\"colab-df-quickchart\" onclick=\"quickchart('df-b39bbf7c-bd74-417f-a198-09b4e28cbd21')\"\n",
              "              title=\"Suggest charts.\"\n",
              "              style=\"display:none;\">\n",
              "\n",
              "<svg xmlns=\"http://www.w3.org/2000/svg\" height=\"24px\"viewBox=\"0 0 24 24\"\n",
              "     width=\"24px\">\n",
              "    <g>\n",
              "        <path d=\"M19 3H5c-1.1 0-2 .9-2 2v14c0 1.1.9 2 2 2h14c1.1 0 2-.9 2-2V5c0-1.1-.9-2-2-2zM9 17H7v-7h2v7zm4 0h-2V7h2v10zm4 0h-2v-4h2v4z\"/>\n",
              "    </g>\n",
              "</svg>\n",
              "      </button>\n",
              "    </div>\n",
              "\n",
              "<style>\n",
              "  .colab-df-quickchart {\n",
              "    background-color: #E8F0FE;\n",
              "    border: none;\n",
              "    border-radius: 50%;\n",
              "    cursor: pointer;\n",
              "    display: none;\n",
              "    fill: #1967D2;\n",
              "    height: 32px;\n",
              "    padding: 0 0 0 0;\n",
              "    width: 32px;\n",
              "  }\n",
              "\n",
              "  .colab-df-quickchart:hover {\n",
              "    background-color: #E2EBFA;\n",
              "    box-shadow: 0px 1px 2px rgba(60, 64, 67, 0.3), 0px 1px 3px 1px rgba(60, 64, 67, 0.15);\n",
              "    fill: #174EA6;\n",
              "  }\n",
              "\n",
              "  [theme=dark] .colab-df-quickchart {\n",
              "    background-color: #3B4455;\n",
              "    fill: #D2E3FC;\n",
              "  }\n",
              "\n",
              "  [theme=dark] .colab-df-quickchart:hover {\n",
              "    background-color: #434B5C;\n",
              "    box-shadow: 0px 1px 3px 1px rgba(0, 0, 0, 0.15);\n",
              "    filter: drop-shadow(0px 1px 2px rgba(0, 0, 0, 0.3));\n",
              "    fill: #FFFFFF;\n",
              "  }\n",
              "</style>\n",
              "\n",
              "    <script>\n",
              "      async function quickchart(key) {\n",
              "        const containerElement = document.querySelector('#' + key);\n",
              "        const charts = await google.colab.kernel.invokeFunction(\n",
              "            'suggestCharts', [key], {});\n",
              "      }\n",
              "    </script>\n",
              "\n",
              "      <script>\n",
              "\n",
              "function displayQuickchartButton(domScope) {\n",
              "  let quickchartButtonEl =\n",
              "    domScope.querySelector('#df-b39bbf7c-bd74-417f-a198-09b4e28cbd21 button.colab-df-quickchart');\n",
              "  quickchartButtonEl.style.display =\n",
              "    google.colab.kernel.accessAllowed ? 'block' : 'none';\n",
              "}\n",
              "\n",
              "        displayQuickchartButton(document);\n",
              "      </script>\n",
              "      <style>\n",
              "    .colab-df-container {\n",
              "      display:flex;\n",
              "      flex-wrap:wrap;\n",
              "      gap: 12px;\n",
              "    }\n",
              "\n",
              "    .colab-df-convert {\n",
              "      background-color: #E8F0FE;\n",
              "      border: none;\n",
              "      border-radius: 50%;\n",
              "      cursor: pointer;\n",
              "      display: none;\n",
              "      fill: #1967D2;\n",
              "      height: 32px;\n",
              "      padding: 0 0 0 0;\n",
              "      width: 32px;\n",
              "    }\n",
              "\n",
              "    .colab-df-convert:hover {\n",
              "      background-color: #E2EBFA;\n",
              "      box-shadow: 0px 1px 2px rgba(60, 64, 67, 0.3), 0px 1px 3px 1px rgba(60, 64, 67, 0.15);\n",
              "      fill: #174EA6;\n",
              "    }\n",
              "\n",
              "    [theme=dark] .colab-df-convert {\n",
              "      background-color: #3B4455;\n",
              "      fill: #D2E3FC;\n",
              "    }\n",
              "\n",
              "    [theme=dark] .colab-df-convert:hover {\n",
              "      background-color: #434B5C;\n",
              "      box-shadow: 0px 1px 3px 1px rgba(0, 0, 0, 0.15);\n",
              "      filter: drop-shadow(0px 1px 2px rgba(0, 0, 0, 0.3));\n",
              "      fill: #FFFFFF;\n",
              "    }\n",
              "  </style>\n",
              "\n",
              "      <script>\n",
              "        const buttonEl =\n",
              "          document.querySelector('#df-caf68b0d-46b0-4882-92cb-eb1497786889 button.colab-df-convert');\n",
              "        buttonEl.style.display =\n",
              "          google.colab.kernel.accessAllowed ? 'block' : 'none';\n",
              "\n",
              "        async function convertToInteractive(key) {\n",
              "          const element = document.querySelector('#df-caf68b0d-46b0-4882-92cb-eb1497786889');\n",
              "          const dataTable =\n",
              "            await google.colab.kernel.invokeFunction('convertToInteractive',\n",
              "                                                     [key], {});\n",
              "          if (!dataTable) return;\n",
              "\n",
              "          const docLinkHtml = 'Like what you see? Visit the ' +\n",
              "            '<a target=\"_blank\" href=https://colab.research.google.com/notebooks/data_table.ipynb>data table notebook</a>'\n",
              "            + ' to learn more about interactive tables.';\n",
              "          element.innerHTML = '';\n",
              "          dataTable['output_type'] = 'display_data';\n",
              "          await google.colab.output.renderOutput(dataTable, element);\n",
              "          const docLink = document.createElement('div');\n",
              "          docLink.innerHTML = docLinkHtml;\n",
              "          element.appendChild(docLink);\n",
              "        }\n",
              "      </script>\n",
              "    </div>\n",
              "  </div>\n"
            ]
          },
          "metadata": {},
          "execution_count": 158
        }
      ]
    },
    {
      "cell_type": "code",
      "source": [
        "#adding in dummy variables for genre\n",
        "one_hot_encoded = pd.get_dummies(df['genre1'])\n",
        "df_encoded = pd.concat([df, one_hot_encoded], axis=1)\n"
      ],
      "metadata": {
        "id": "M4D8P5gB7TzP"
      },
      "execution_count": 160,
      "outputs": []
    },
    {
      "cell_type": "markdown",
      "source": [
        "Check which columns weren't created by the hot encoding above"
      ],
      "metadata": {
        "id": "slZ5Zuq2Hh0-"
      }
    },
    {
      "cell_type": "code",
      "source": [
        "print(set([name for name in list(df[\"genre2\"]) + list(df[\"genre3\"])  if name not in df_encoded.columns]))\n",
        "new_cols = set([name for name in list(df[\"genre2\"]) + list(df[\"genre3\"]) if name not in df_encoded.columns])\n"
      ],
      "metadata": {
        "colab": {
          "base_uri": "https://localhost:8080/"
        },
        "id": "fuhJw89wHAPY",
        "outputId": "5e8f7ccf-142d-49b4-fa6f-4041e5750803"
      },
      "execution_count": 162,
      "outputs": [
        {
          "output_type": "stream",
          "name": "stdout",
          "text": [
            "{'War', 'History', 'News', 'Sport'}\n"
          ]
        }
      ]
    },
    {
      "cell_type": "code",
      "source": [
        "for c in new_cols:\n",
        "  df_encoded[c] = [0] * len(df_encoded)"
      ],
      "metadata": {
        "id": "-eZOGuGkHsQc"
      },
      "execution_count": 163,
      "outputs": []
    },
    {
      "cell_type": "markdown",
      "source": [
        "Here I want to fix the encoding so that genres 2 and 3 are accounted for"
      ],
      "metadata": {
        "id": "OgywrAOxEm1U"
      }
    },
    {
      "cell_type": "code",
      "source": [
        "for row in range(len(df_encoded)):\n",
        "\n",
        "  df_encoded[df[\"genre2\"][row]][row] += 1\n",
        "  df_encoded[df[\"genre3\"][row]][row] += 1\n"
      ],
      "metadata": {
        "colab": {
          "base_uri": "https://localhost:8080/"
        },
        "id": "6zKtIIuPSM_v",
        "outputId": "99f11168-f1b3-4689-a701-b2f501b3aea8"
      },
      "execution_count": 164,
      "outputs": [
        {
          "output_type": "stream",
          "name": "stderr",
          "text": [
            "<ipython-input-164-302d53a22829>:3: SettingWithCopyWarning: \n",
            "A value is trying to be set on a copy of a slice from a DataFrame\n",
            "\n",
            "See the caveats in the documentation: https://pandas.pydata.org/pandas-docs/stable/user_guide/indexing.html#returning-a-view-versus-a-copy\n",
            "  df_encoded[df[\"genre2\"][row]][row] += 1\n",
            "<ipython-input-164-302d53a22829>:4: SettingWithCopyWarning: \n",
            "A value is trying to be set on a copy of a slice from a DataFrame\n",
            "\n",
            "See the caveats in the documentation: https://pandas.pydata.org/pandas-docs/stable/user_guide/indexing.html#returning-a-view-versus-a-copy\n",
            "  df_encoded[df[\"genre3\"][row]][row] += 1\n"
          ]
        }
      ]
    },
    {
      "cell_type": "code",
      "source": [
        "#adding in director rating\n",
        "t = df.groupby([\"director_name\"]).mean()[\"movie_averagerating\"]\n",
        "df_encoded['director_rating'] = df.director_name.map(t)\n",
        "df_encoded['director_rating'].replace(np.nan,np.mean(df['movie_averagerating']),inplace = True)\n",
        "df.head()"
      ],
      "metadata": {
        "colab": {
          "base_uri": "https://localhost:8080/",
          "height": 438
        },
        "id": "X37Nqp-a2oeW",
        "outputId": "bb7f89e6-8b44-4445-b943-c1f725801c02"
      },
      "execution_count": 165,
      "outputs": [
        {
          "output_type": "stream",
          "name": "stderr",
          "text": [
            "<ipython-input-165-e3259fa87839>:2: FutureWarning: The default value of numeric_only in DataFrameGroupBy.mean is deprecated. In a future version, numeric_only will default to False. Either specify numeric_only or select only columns which should be valid for the function.\n",
            "  t = df.groupby([\"director_name\"]).mean()[\"movie_averagerating\"]\n"
          ]
        },
        {
          "output_type": "execute_result",
          "data": {
            "text/plain": [
              "                                   movie_title production_date  \\\n",
              "0                     Avatar: The Way of Water      2022-12-09   \n",
              "1                            Avengers: Endgame      2019-04-23   \n",
              "2  Pirates of the Caribbean: On Stranger Tides      2011-05-20   \n",
              "3                      Avengers: Age of Ultron      2015-04-22   \n",
              "4                       Avengers: Infinity War      2018-04-25   \n",
              "\n",
              "                     genres  runtime_minutes  director_name  \\\n",
              "0  Action,Adventure,Fantasy            192.0  James Cameron   \n",
              "1    Action,Adventure,Drama            181.0            NaN   \n",
              "2  Action,Adventure,Fantasy            137.0   Rob Marshall   \n",
              "3   Action,Adventure,Sci-Fi            141.0    Joss Whedon   \n",
              "4   Action,Adventure,Sci-Fi            149.0            NaN   \n",
              "\n",
              "              director_professions  director_birthyear director_deathyear  \\\n",
              "0         writer,producer,director                1954                  0   \n",
              "1                              NaN                1984                  0   \n",
              "2  director,miscellaneous,producer                1960                  0   \n",
              "3         writer,producer,director                1964                  0   \n",
              "4                              NaN                1983                  0   \n",
              "\n",
              "   movie_averagerating  movie_numerofvotes  ...     genre2   genre3  director  \\\n",
              "0                  7.8            277543.0  ...  Adventure  Fantasy         1   \n",
              "1                  8.4           1143642.0  ...  Adventure    Drama         0   \n",
              "2                  6.6            533763.0  ...  Adventure  Fantasy         1   \n",
              "3                  7.3            870573.0  ...  Adventure   Sci-Fi         1   \n",
              "4                  8.4           1091968.0  ...  Adventure   Sci-Fi         0   \n",
              "\n",
              "   writer producer actor  year  month  season  production_age  \n",
              "0       1        1     0  2022     12  Winter              68  \n",
              "1       0        0     0  2019      4  Spring              35  \n",
              "2       0        1     0  2011      5  Spring              51  \n",
              "3       1        1     0  2015      4  Spring              51  \n",
              "4       0        0     0  2018      4  Spring              35  \n",
              "\n",
              "[5 rows x 25 columns]"
            ],
            "text/html": [
              "\n",
              "\n",
              "  <div id=\"df-5cdaf33a-da3e-4d26-a70b-13aed1c31794\">\n",
              "    <div class=\"colab-df-container\">\n",
              "      <div>\n",
              "<style scoped>\n",
              "    .dataframe tbody tr th:only-of-type {\n",
              "        vertical-align: middle;\n",
              "    }\n",
              "\n",
              "    .dataframe tbody tr th {\n",
              "        vertical-align: top;\n",
              "    }\n",
              "\n",
              "    .dataframe thead th {\n",
              "        text-align: right;\n",
              "    }\n",
              "</style>\n",
              "<table border=\"1\" class=\"dataframe\">\n",
              "  <thead>\n",
              "    <tr style=\"text-align: right;\">\n",
              "      <th></th>\n",
              "      <th>movie_title</th>\n",
              "      <th>production_date</th>\n",
              "      <th>genres</th>\n",
              "      <th>runtime_minutes</th>\n",
              "      <th>director_name</th>\n",
              "      <th>director_professions</th>\n",
              "      <th>director_birthyear</th>\n",
              "      <th>director_deathyear</th>\n",
              "      <th>movie_averagerating</th>\n",
              "      <th>movie_numerofvotes</th>\n",
              "      <th>...</th>\n",
              "      <th>genre2</th>\n",
              "      <th>genre3</th>\n",
              "      <th>director</th>\n",
              "      <th>writer</th>\n",
              "      <th>producer</th>\n",
              "      <th>actor</th>\n",
              "      <th>year</th>\n",
              "      <th>month</th>\n",
              "      <th>season</th>\n",
              "      <th>production_age</th>\n",
              "    </tr>\n",
              "  </thead>\n",
              "  <tbody>\n",
              "    <tr>\n",
              "      <th>0</th>\n",
              "      <td>Avatar: The Way of Water</td>\n",
              "      <td>2022-12-09</td>\n",
              "      <td>Action,Adventure,Fantasy</td>\n",
              "      <td>192.0</td>\n",
              "      <td>James Cameron</td>\n",
              "      <td>writer,producer,director</td>\n",
              "      <td>1954</td>\n",
              "      <td>0</td>\n",
              "      <td>7.8</td>\n",
              "      <td>277543.0</td>\n",
              "      <td>...</td>\n",
              "      <td>Adventure</td>\n",
              "      <td>Fantasy</td>\n",
              "      <td>1</td>\n",
              "      <td>1</td>\n",
              "      <td>1</td>\n",
              "      <td>0</td>\n",
              "      <td>2022</td>\n",
              "      <td>12</td>\n",
              "      <td>Winter</td>\n",
              "      <td>68</td>\n",
              "    </tr>\n",
              "    <tr>\n",
              "      <th>1</th>\n",
              "      <td>Avengers: Endgame</td>\n",
              "      <td>2019-04-23</td>\n",
              "      <td>Action,Adventure,Drama</td>\n",
              "      <td>181.0</td>\n",
              "      <td>NaN</td>\n",
              "      <td>NaN</td>\n",
              "      <td>1984</td>\n",
              "      <td>0</td>\n",
              "      <td>8.4</td>\n",
              "      <td>1143642.0</td>\n",
              "      <td>...</td>\n",
              "      <td>Adventure</td>\n",
              "      <td>Drama</td>\n",
              "      <td>0</td>\n",
              "      <td>0</td>\n",
              "      <td>0</td>\n",
              "      <td>0</td>\n",
              "      <td>2019</td>\n",
              "      <td>4</td>\n",
              "      <td>Spring</td>\n",
              "      <td>35</td>\n",
              "    </tr>\n",
              "    <tr>\n",
              "      <th>2</th>\n",
              "      <td>Pirates of the Caribbean: On Stranger Tides</td>\n",
              "      <td>2011-05-20</td>\n",
              "      <td>Action,Adventure,Fantasy</td>\n",
              "      <td>137.0</td>\n",
              "      <td>Rob Marshall</td>\n",
              "      <td>director,miscellaneous,producer</td>\n",
              "      <td>1960</td>\n",
              "      <td>0</td>\n",
              "      <td>6.6</td>\n",
              "      <td>533763.0</td>\n",
              "      <td>...</td>\n",
              "      <td>Adventure</td>\n",
              "      <td>Fantasy</td>\n",
              "      <td>1</td>\n",
              "      <td>0</td>\n",
              "      <td>1</td>\n",
              "      <td>0</td>\n",
              "      <td>2011</td>\n",
              "      <td>5</td>\n",
              "      <td>Spring</td>\n",
              "      <td>51</td>\n",
              "    </tr>\n",
              "    <tr>\n",
              "      <th>3</th>\n",
              "      <td>Avengers: Age of Ultron</td>\n",
              "      <td>2015-04-22</td>\n",
              "      <td>Action,Adventure,Sci-Fi</td>\n",
              "      <td>141.0</td>\n",
              "      <td>Joss Whedon</td>\n",
              "      <td>writer,producer,director</td>\n",
              "      <td>1964</td>\n",
              "      <td>0</td>\n",
              "      <td>7.3</td>\n",
              "      <td>870573.0</td>\n",
              "      <td>...</td>\n",
              "      <td>Adventure</td>\n",
              "      <td>Sci-Fi</td>\n",
              "      <td>1</td>\n",
              "      <td>1</td>\n",
              "      <td>1</td>\n",
              "      <td>0</td>\n",
              "      <td>2015</td>\n",
              "      <td>4</td>\n",
              "      <td>Spring</td>\n",
              "      <td>51</td>\n",
              "    </tr>\n",
              "    <tr>\n",
              "      <th>4</th>\n",
              "      <td>Avengers: Infinity War</td>\n",
              "      <td>2018-04-25</td>\n",
              "      <td>Action,Adventure,Sci-Fi</td>\n",
              "      <td>149.0</td>\n",
              "      <td>NaN</td>\n",
              "      <td>NaN</td>\n",
              "      <td>1983</td>\n",
              "      <td>0</td>\n",
              "      <td>8.4</td>\n",
              "      <td>1091968.0</td>\n",
              "      <td>...</td>\n",
              "      <td>Adventure</td>\n",
              "      <td>Sci-Fi</td>\n",
              "      <td>0</td>\n",
              "      <td>0</td>\n",
              "      <td>0</td>\n",
              "      <td>0</td>\n",
              "      <td>2018</td>\n",
              "      <td>4</td>\n",
              "      <td>Spring</td>\n",
              "      <td>35</td>\n",
              "    </tr>\n",
              "  </tbody>\n",
              "</table>\n",
              "<p>5 rows × 25 columns</p>\n",
              "</div>\n",
              "      <button class=\"colab-df-convert\" onclick=\"convertToInteractive('df-5cdaf33a-da3e-4d26-a70b-13aed1c31794')\"\n",
              "              title=\"Convert this dataframe to an interactive table.\"\n",
              "              style=\"display:none;\">\n",
              "\n",
              "  <svg xmlns=\"http://www.w3.org/2000/svg\" height=\"24px\"viewBox=\"0 0 24 24\"\n",
              "       width=\"24px\">\n",
              "    <path d=\"M0 0h24v24H0V0z\" fill=\"none\"/>\n",
              "    <path d=\"M18.56 5.44l.94 2.06.94-2.06 2.06-.94-2.06-.94-.94-2.06-.94 2.06-2.06.94zm-11 1L8.5 8.5l.94-2.06 2.06-.94-2.06-.94L8.5 2.5l-.94 2.06-2.06.94zm10 10l.94 2.06.94-2.06 2.06-.94-2.06-.94-.94-2.06-.94 2.06-2.06.94z\"/><path d=\"M17.41 7.96l-1.37-1.37c-.4-.4-.92-.59-1.43-.59-.52 0-1.04.2-1.43.59L10.3 9.45l-7.72 7.72c-.78.78-.78 2.05 0 2.83L4 21.41c.39.39.9.59 1.41.59.51 0 1.02-.2 1.41-.59l7.78-7.78 2.81-2.81c.8-.78.8-2.07 0-2.86zM5.41 20L4 18.59l7.72-7.72 1.47 1.35L5.41 20z\"/>\n",
              "  </svg>\n",
              "      </button>\n",
              "\n",
              "\n",
              "\n",
              "    <div id=\"df-9ee2f9ff-6b8f-4a35-862d-a55125f9ff32\">\n",
              "      <button class=\"colab-df-quickchart\" onclick=\"quickchart('df-9ee2f9ff-6b8f-4a35-862d-a55125f9ff32')\"\n",
              "              title=\"Suggest charts.\"\n",
              "              style=\"display:none;\">\n",
              "\n",
              "<svg xmlns=\"http://www.w3.org/2000/svg\" height=\"24px\"viewBox=\"0 0 24 24\"\n",
              "     width=\"24px\">\n",
              "    <g>\n",
              "        <path d=\"M19 3H5c-1.1 0-2 .9-2 2v14c0 1.1.9 2 2 2h14c1.1 0 2-.9 2-2V5c0-1.1-.9-2-2-2zM9 17H7v-7h2v7zm4 0h-2V7h2v10zm4 0h-2v-4h2v4z\"/>\n",
              "    </g>\n",
              "</svg>\n",
              "      </button>\n",
              "    </div>\n",
              "\n",
              "<style>\n",
              "  .colab-df-quickchart {\n",
              "    background-color: #E8F0FE;\n",
              "    border: none;\n",
              "    border-radius: 50%;\n",
              "    cursor: pointer;\n",
              "    display: none;\n",
              "    fill: #1967D2;\n",
              "    height: 32px;\n",
              "    padding: 0 0 0 0;\n",
              "    width: 32px;\n",
              "  }\n",
              "\n",
              "  .colab-df-quickchart:hover {\n",
              "    background-color: #E2EBFA;\n",
              "    box-shadow: 0px 1px 2px rgba(60, 64, 67, 0.3), 0px 1px 3px 1px rgba(60, 64, 67, 0.15);\n",
              "    fill: #174EA6;\n",
              "  }\n",
              "\n",
              "  [theme=dark] .colab-df-quickchart {\n",
              "    background-color: #3B4455;\n",
              "    fill: #D2E3FC;\n",
              "  }\n",
              "\n",
              "  [theme=dark] .colab-df-quickchart:hover {\n",
              "    background-color: #434B5C;\n",
              "    box-shadow: 0px 1px 3px 1px rgba(0, 0, 0, 0.15);\n",
              "    filter: drop-shadow(0px 1px 2px rgba(0, 0, 0, 0.3));\n",
              "    fill: #FFFFFF;\n",
              "  }\n",
              "</style>\n",
              "\n",
              "    <script>\n",
              "      async function quickchart(key) {\n",
              "        const containerElement = document.querySelector('#' + key);\n",
              "        const charts = await google.colab.kernel.invokeFunction(\n",
              "            'suggestCharts', [key], {});\n",
              "      }\n",
              "    </script>\n",
              "\n",
              "      <script>\n",
              "\n",
              "function displayQuickchartButton(domScope) {\n",
              "  let quickchartButtonEl =\n",
              "    domScope.querySelector('#df-9ee2f9ff-6b8f-4a35-862d-a55125f9ff32 button.colab-df-quickchart');\n",
              "  quickchartButtonEl.style.display =\n",
              "    google.colab.kernel.accessAllowed ? 'block' : 'none';\n",
              "}\n",
              "\n",
              "        displayQuickchartButton(document);\n",
              "      </script>\n",
              "      <style>\n",
              "    .colab-df-container {\n",
              "      display:flex;\n",
              "      flex-wrap:wrap;\n",
              "      gap: 12px;\n",
              "    }\n",
              "\n",
              "    .colab-df-convert {\n",
              "      background-color: #E8F0FE;\n",
              "      border: none;\n",
              "      border-radius: 50%;\n",
              "      cursor: pointer;\n",
              "      display: none;\n",
              "      fill: #1967D2;\n",
              "      height: 32px;\n",
              "      padding: 0 0 0 0;\n",
              "      width: 32px;\n",
              "    }\n",
              "\n",
              "    .colab-df-convert:hover {\n",
              "      background-color: #E2EBFA;\n",
              "      box-shadow: 0px 1px 2px rgba(60, 64, 67, 0.3), 0px 1px 3px 1px rgba(60, 64, 67, 0.15);\n",
              "      fill: #174EA6;\n",
              "    }\n",
              "\n",
              "    [theme=dark] .colab-df-convert {\n",
              "      background-color: #3B4455;\n",
              "      fill: #D2E3FC;\n",
              "    }\n",
              "\n",
              "    [theme=dark] .colab-df-convert:hover {\n",
              "      background-color: #434B5C;\n",
              "      box-shadow: 0px 1px 3px 1px rgba(0, 0, 0, 0.15);\n",
              "      filter: drop-shadow(0px 1px 2px rgba(0, 0, 0, 0.3));\n",
              "      fill: #FFFFFF;\n",
              "    }\n",
              "  </style>\n",
              "\n",
              "      <script>\n",
              "        const buttonEl =\n",
              "          document.querySelector('#df-5cdaf33a-da3e-4d26-a70b-13aed1c31794 button.colab-df-convert');\n",
              "        buttonEl.style.display =\n",
              "          google.colab.kernel.accessAllowed ? 'block' : 'none';\n",
              "\n",
              "        async function convertToInteractive(key) {\n",
              "          const element = document.querySelector('#df-5cdaf33a-da3e-4d26-a70b-13aed1c31794');\n",
              "          const dataTable =\n",
              "            await google.colab.kernel.invokeFunction('convertToInteractive',\n",
              "                                                     [key], {});\n",
              "          if (!dataTable) return;\n",
              "\n",
              "          const docLinkHtml = 'Like what you see? Visit the ' +\n",
              "            '<a target=\"_blank\" href=https://colab.research.google.com/notebooks/data_table.ipynb>data table notebook</a>'\n",
              "            + ' to learn more about interactive tables.';\n",
              "          element.innerHTML = '';\n",
              "          dataTable['output_type'] = 'display_data';\n",
              "          await google.colab.output.renderOutput(dataTable, element);\n",
              "          const docLink = document.createElement('div');\n",
              "          docLink.innerHTML = docLinkHtml;\n",
              "          element.appendChild(docLink);\n",
              "        }\n",
              "      </script>\n",
              "    </div>\n",
              "  </div>\n"
            ]
          },
          "metadata": {},
          "execution_count": 165
        }
      ]
    },
    {
      "cell_type": "code",
      "source": [
        "#I want to be able to test more features so I'm getting rid of features that have the same value 90% of the time\n",
        "from sklearn.feature_selection import VarianceThreshold\n",
        "X = df_encoded.drop(labels = [\"movie_title\",\"production_date\",\"genres\",\"director_name\",\"director_professions\",\n",
        "                           \"domestic_gross_\",\"worldwide_gross_\",\"genre1\",\"genre2\",\"genre3\",\"season\"], axis = 1)\n",
        "sel = VarianceThreshold(threshold=(.9 * (1 - .9))) #90%\n",
        "sel.fit(X)\n",
        "sel.get_feature_names_out(X.columns)"
      ],
      "metadata": {
        "colab": {
          "base_uri": "https://localhost:8080/"
        },
        "id": "Q5A4bEGlyuqu",
        "outputId": "4bf12412-dd9a-4cd6-94f4-7be8ec0c4efa"
      },
      "execution_count": 166,
      "outputs": [
        {
          "output_type": "execute_result",
          "data": {
            "text/plain": [
              "array(['runtime_minutes', 'director_birthyear', 'director_deathyear',\n",
              "       'movie_averagerating', 'movie_numerofvotes', 'approval_index',\n",
              "       'production_budget_', 'director', 'writer', 'producer', 'actor',\n",
              "       'year', 'month', 'production_age', 'Action', 'Adventure', 'Comedy',\n",
              "       'Crime', 'Drama', 'Horror', 'No Genre', 'Romance', 'Thriller',\n",
              "       'director_rating'], dtype=object)"
            ]
          },
          "metadata": {},
          "execution_count": 166
        }
      ]
    },
    {
      "cell_type": "code",
      "source": [
        "df_encoded = df_encoded[[\"worldwide_gross_\",\"season\",\"domestic_gross_\",\n",
        "                         'runtime_minutes', 'director_birthyear', 'director_deathyear',\n",
        "       'movie_averagerating', 'movie_numerofvotes', 'approval_index',\n",
        "       'production_budget_', 'director', 'writer', 'producer','actor', 'year',\n",
        "       'month', 'production_age', 'Action', 'Adventure', 'Comedy',\n",
        "       'Crime', 'Drama', 'Horror', 'No Genre', 'Romance', 'Thriller',\n",
        "       'director_rating']]\n",
        "one_hot_encoded = pd.get_dummies(df['season'])\n",
        "df_encoded = pd.concat([df_encoded, one_hot_encoded], axis=1)"
      ],
      "metadata": {
        "id": "L5_sy8GX1FC3"
      },
      "execution_count": 167,
      "outputs": []
    },
    {
      "cell_type": "code",
      "source": [
        "#obviously completely unlikely one of the seasons has the same value 90% of the time, but we check!\n",
        "X = df_encoded.drop(labels = [\"worldwide_gross_\",\"season\",\"domestic_gross_\"], axis = 1)\n",
        "sel = VarianceThreshold(threshold=(.9 * (1 - .9)))\n",
        "sel.fit(X)\n",
        "sel.get_feature_names_out(X.columns)"
      ],
      "metadata": {
        "colab": {
          "base_uri": "https://localhost:8080/"
        },
        "id": "9p9NbqKJ1eVe",
        "outputId": "bbc16b96-19b4-41b4-9be5-5486b2921919"
      },
      "execution_count": 168,
      "outputs": [
        {
          "output_type": "execute_result",
          "data": {
            "text/plain": [
              "array(['runtime_minutes', 'director_birthyear', 'director_deathyear',\n",
              "       'movie_averagerating', 'movie_numerofvotes', 'approval_index',\n",
              "       'production_budget_', 'director', 'writer', 'producer', 'actor',\n",
              "       'year', 'month', 'production_age', 'Action', 'Adventure', 'Comedy',\n",
              "       'Crime', 'Drama', 'Horror', 'No Genre', 'Romance', 'Thriller',\n",
              "       'director_rating', 'Fall', 'Spring', 'Summer', 'Winter'],\n",
              "      dtype=object)"
            ]
          },
          "metadata": {},
          "execution_count": 168
        }
      ]
    },
    {
      "cell_type": "code",
      "source": [
        "#take a look at a random example\n",
        "df_encoded.iloc[0,:]"
      ],
      "metadata": {
        "colab": {
          "base_uri": "https://localhost:8080/"
        },
        "id": "8J7boODcIH9g",
        "outputId": "9a249961-2df5-4f1b-f764-7fac2ec85fa3"
      },
      "execution_count": 169,
      "outputs": [
        {
          "output_type": "execute_result",
          "data": {
            "text/plain": [
              "worldwide_gross_       2265935552\n",
              "season                     Winter\n",
              "domestic_gross_         667830256\n",
              "runtime_minutes             192.0\n",
              "director_birthyear           1954\n",
              "director_deathyear              0\n",
              "movie_averagerating           7.8\n",
              "movie_numerofvotes       277543.0\n",
              "approval_index           7.061101\n",
              "production_budget_      460000000\n",
              "director                        1\n",
              "writer                          1\n",
              "producer                        1\n",
              "actor                           0\n",
              "year                         2022\n",
              "month                          12\n",
              "production_age                 68\n",
              "Action                          1\n",
              "Adventure                       1\n",
              "Comedy                          0\n",
              "Crime                           0\n",
              "Drama                           0\n",
              "Horror                          0\n",
              "No Genre                        0\n",
              "Romance                         0\n",
              "Thriller                        0\n",
              "director_rating            7.9375\n",
              "Fall                            0\n",
              "Spring                          0\n",
              "Summer                          0\n",
              "Winter                          1\n",
              "Name: 0, dtype: object"
            ]
          },
          "metadata": {},
          "execution_count": 169
        }
      ]
    },
    {
      "cell_type": "code",
      "source": [
        "import matplotlib.pyplot as plt\n",
        "import seaborn as sns\n",
        "sns.histplot(df[\"production_budget_\"], binwidth = 25000000, binrange = (0,500000000))\n",
        "len(df[df.production_budget_ < 25000000])"
      ],
      "metadata": {
        "colab": {
          "base_uri": "https://localhost:8080/",
          "height": 467
        },
        "id": "9JJj31N2-jT3",
        "outputId": "8d2ac767-faa7-45c8-91cd-24df8303ff9d"
      },
      "execution_count": 19,
      "outputs": [
        {
          "output_type": "execute_result",
          "data": {
            "text/plain": [
              "2233"
            ]
          },
          "metadata": {},
          "execution_count": 19
        },
        {
          "output_type": "display_data",
          "data": {
            "text/plain": [
              "<Figure size 640x480 with 1 Axes>"
            ],
            "image/png": "[encoded data removed]"
          },
          "metadata": {}
        }
      ]
    },
    {
      "cell_type": "code",
      "source": [
        "sns.boxplot(x = df.production_budget_)"
      ],
      "metadata": {
        "colab": {
          "base_uri": "https://localhost:8080/",
          "height": 467
        },
        "id": "JU1nITkDeuWN",
        "outputId": "aac7ac6c-1c7d-410e-ecf5-925c1bad891d"
      },
      "execution_count": 20,
      "outputs": [
        {
          "output_type": "execute_result",
          "data": {
            "text/plain": [
              "<Axes: xlabel='production_budget_'>"
            ]
          },
          "metadata": {},
          "execution_count": 20
        },
        {
          "output_type": "display_data",
          "data": {
            "text/plain": [
              "<Figure size 640x480 with 1 Axes>"
            ],
            "image/png": "[encoded data removed]"
          },
          "metadata": {}
        }
      ]
    },
    {
      "cell_type": "code",
      "source": [
        "sns.histplot(df[\"worldwide_gross_\"], binwidth = 25000000, binrange = (0,1000000000))\n",
        "len(df[df.worldwide_gross_ < 200000000])"
      ],
      "metadata": {
        "colab": {
          "base_uri": "https://localhost:8080/",
          "height": 467
        },
        "id": "i-k_Ha8t-WdK",
        "outputId": "1290e8c5-cf16-4a6d-8688-ae2a0ef71341"
      },
      "execution_count": 21,
      "outputs": [
        {
          "output_type": "execute_result",
          "data": {
            "text/plain": [
              "3668"
            ]
          },
          "metadata": {},
          "execution_count": 21
        },
        {
          "output_type": "display_data",
          "data": {
            "text/plain": [
              "<Figure size 640x480 with 1 Axes>"
            ],
            "image/png": "[encoded data removed]"
          },
          "metadata": {}
        }
      ]
    },
    {
      "cell_type": "code",
      "source": [
        "sns.boxplot(x = df.worldwide_gross_)"
      ],
      "metadata": {
        "colab": {
          "base_uri": "https://localhost:8080/",
          "height": 467
        },
        "id": "AE9hQ7htf0XT",
        "outputId": "714b6ec7-e227-4275-831d-a2ea88813956"
      },
      "execution_count": 22,
      "outputs": [
        {
          "output_type": "execute_result",
          "data": {
            "text/plain": [
              "<Axes: xlabel='worldwide_gross_'>"
            ]
          },
          "metadata": {},
          "execution_count": 22
        },
        {
          "output_type": "display_data",
          "data": {
            "text/plain": [
              "<Figure size 640x480 with 1 Axes>"
            ],
            "image/png": "[encoded data removed]"
          },
          "metadata": {}
        }
      ]
    },
    {
      "cell_type": "code",
      "source": [
        "labels = df_encoded[\"worldwide_gross_\"]\n",
        "data = df_encoded.drop(labels = [\"season\",\"worldwide_gross_\",\"domestic_gross_\"], axis = 1)\n"
      ],
      "metadata": {
        "id": "Q6B2fpxHVTMk"
      },
      "execution_count": 193,
      "outputs": []
    },
    {
      "cell_type": "code",
      "source": [
        "from sklearn.preprocessing import scale\n",
        "from sklearn.linear_model import LinearRegression\n",
        "from sklearn.model_selection import train_test_split\n",
        "scaled_data = scale(data, axis = 0)\n",
        "train_data, test_data, train_labels, test_labels = train_test_split(scaled_data, labels, test_size = 0.2, random_state = 100)"
      ],
      "metadata": {
        "id": "C2pX4fgyYuBE"
      },
      "execution_count": 194,
      "outputs": []
    },
    {
      "cell_type": "code",
      "source": [
        "#creating a standard error function\n",
        "def standard_error(td,tl):\n",
        "  #Mean Squared Error\n",
        "  mean_squared_error = sum([(j - reg.predict(np.array(i).reshape(1, -1)))**2 for i,j in zip(td,tl)]) / len(td)\n",
        "  return mean_squared_error[0]**0.5"
      ],
      "metadata": {
        "id": "uPbLs5Td6yET"
      },
      "execution_count": 186,
      "outputs": []
    },
    {
      "cell_type": "code",
      "source": [
        "#train the model\n",
        "reg = LinearRegression().fit(train_data, train_labels)\n",
        "#R^2 score\n",
        "print(f\"The value of R^2 is {reg.score(test_data,test_labels)}\")\n",
        "#this creates a list of tuples (real, predicted) in case you want to look\n",
        "predictions_true = [(j,reg.predict(np.array(i).reshape(1, -1))) for i,j in zip(test_data,test_labels)]\n",
        "#Standard Error\n",
        "print(f\"The standard error is {standard_error(test_data,test_labels)}\")"
      ],
      "metadata": {
        "colab": {
          "base_uri": "https://localhost:8080/"
        },
        "id": "Iq-yTx82K5Li",
        "outputId": "5903c64f-ac29-49e8-c65b-d984213a48b7"
      },
      "execution_count": 195,
      "outputs": [
        {
          "output_type": "stream",
          "name": "stdout",
          "text": [
            "The value of R^2 is 0.6969691577704562\n",
            "The standard error is 115609778.004112\n"
          ]
        }
      ]
    },
    {
      "cell_type": "code",
      "source": [
        "import matplotlib.pyplot as plt\n",
        "t = [i-j[0] for i,j in predictions_true]\n",
        "#t = [(i,j) for i,j in zip(data.iloc[test_labels.index][\"production_budget_\"],t)]\n",
        "#sorted_list = sorted(t, key=lambda x: x[1])\n",
        "#sorted_list\n",
        "u = data.iloc[test_labels.index][\"production_budget_\"]\n",
        "plt.scatter(u,t)\n",
        "plt.title(\"Difference Between Real and Prediction\")\n",
        "plt.xlabel(\"Production Budget\")\n",
        "plt.ylabel(\"Difference in Gross\")\n",
        "plt.show()"
      ],
      "metadata": {
        "colab": {
          "base_uri": "https://localhost:8080/",
          "height": 472
        },
        "id": "nJudKoiOnYg0",
        "outputId": "9d0090da-9eb8-4a41-bf68-d5d86d2186a9"
      },
      "execution_count": 197,
      "outputs": [
        {
          "output_type": "display_data",
          "data": {
            "text/plain": [
              "<Figure size 640x480 with 1 Axes>"
            ],
            "image/png": "[encoded data removed]"
          },
          "metadata": {}
        }
      ]
    },
    {
      "cell_type": "code",
      "source": [
        "from sklearn.feature_selection import SelectKBest, f_regression\n",
        "r_average = [0] * 27\n",
        "se_average = [0] * 27\n",
        "for trial in range(100):\n",
        "  rsquareds = []\n",
        "  se = []\n",
        "  for num in range(1,28):\n",
        "    #feature selection algorithm is always ran on same random state\n",
        "    scaled_data = scale(data, axis = 0)\n",
        "    train_data, test_data, train_labels, test_labels = train_test_split(scaled_data, labels, test_size = 0.2,random_state=2308)\n",
        "    k_best = SelectKBest(f_regression, k=num)\n",
        "    X_new = k_best.fit_transform(train_data, train_labels)\n",
        "    indices = k_best.get_support(indices=True)\n",
        "    regression_cols = [data.columns[i] for i in indices]\n",
        "    #choosing columns from the dataset and scaling\n",
        "    new_data = data[regression_cols]\n",
        "    new_scaled_data = scale(new_data, axis = 0)\n",
        "    #no random state specified here so it will always be randomized\n",
        "    train_data, test_data, train_labels, test_labels = train_test_split(new_scaled_data, labels, test_size = 0.2)\n",
        "    #train the model\n",
        "    reg = LinearRegression().fit(train_data, train_labels)\n",
        "    rsquareds.append(reg.score(test_data,test_labels))\n",
        "    se.append(standard_error(test_data,test_labels))\n",
        "  r_average = [i + j for i,j in zip(rsquareds,r_average)]\n",
        "  se_average = [i + j for i,j in zip(se,se_average)]\n"
      ],
      "metadata": {
        "id": "JrDHWw7d-8F9"
      },
      "execution_count": 198,
      "outputs": []
    },
    {
      "cell_type": "code",
      "source": [
        "x = [i for i in range(1,28)]\n",
        "y = [i/100 for i in r_average]\n",
        "plt.plot(x,y, marker = \"o\")\n",
        "plt.xlabel(\"Number of Features\")\n",
        "plt.ylabel(\"R-squared\")\n",
        "plt.xticks([i for i in range(0,38,2)])\n",
        "plt.title(\"Feature Selection\")\n",
        "plt.show()"
      ],
      "metadata": {
        "colab": {
          "base_uri": "https://localhost:8080/",
          "height": 472
        },
        "id": "SEVnKgnSFYli",
        "outputId": "7b7c25f8-7a1a-4faf-800c-58f3ba20ebd5"
      },
      "execution_count": 199,
      "outputs": [
        {
          "output_type": "display_data",
          "data": {
            "text/plain": [
              "<Figure size 640x480 with 1 Axes>"
            ],
            "image/png": "[encoded data removed]"
          },
          "metadata": {}
        }
      ]
    },
    {
      "cell_type": "code",
      "source": [
        "x = [i for i in range(1,28)]\n",
        "y = [i/100 for i in se_average]\n",
        "plt.plot(x,y, marker = \"o\")\n",
        "plt.xlabel(\"Number of Features\")\n",
        "plt.ylabel(\"Standard Error\")\n",
        "plt.xticks([i for i in range(0,38,2)])\n",
        "plt.title(\"Feature Selection\")\n",
        "plt.show"
      ],
      "metadata": {
        "colab": {
          "base_uri": "https://localhost:8080/",
          "height": 489
        },
        "id": "z8x2U2pf8NGC",
        "outputId": "7f311396-4665-42ff-f8ce-49d6e96991e5"
      },
      "execution_count": 200,
      "outputs": [
        {
          "output_type": "execute_result",
          "data": {
            "text/plain": [
              "<function matplotlib.pyplot.show(close=None, block=None)>"
            ]
          },
          "metadata": {},
          "execution_count": 200
        },
        {
          "output_type": "display_data",
          "data": {
            "text/plain": [
              "<Figure size 640x480 with 1 Axes>"
            ],
            "image/png": "[encoded data removed]"
          },
          "metadata": {}
        }
      ]
    },
    {
      "cell_type": "code",
      "source": [
        "scaled_data = scale(data, axis = 0)\n",
        "train_data, test_data, train_labels, test_labels = train_test_split(scaled_data, labels, test_size = 0.2,random_state=2308)\n",
        "k_best = SelectKBest(f_regression, k=13)\n",
        "X_new = k_best.fit_transform(train_data, train_labels)\n",
        "indices = k_best.get_support(indices=True)\n",
        "regression_cols = [data.columns[i] for i in indices]\n",
        "new_data = data[regression_cols]\n",
        "new_scaled_data = scale(new_data, axis = 0)\n",
        "train_data, test_data, train_labels, test_labels = train_test_split(new_scaled_data, labels, test_size = 0.2)\n",
        "#train the model\n",
        "reg = LinearRegression().fit(train_data, train_labels)\n",
        "print(f\"The value of R^2 is {reg.score(test_data,test_labels)}\")\n",
        "#this creates a list of tuples (real, predicted) in case you want to look\n",
        "predictions_true = [(j,reg.predict(np.array(i).reshape(1, -1))[0]) for i,j in zip(test_data,test_labels)]\n",
        "#Mean Squared Error\n",
        "mean_squared_error = sum([(j - reg.predict(np.array(i).reshape(1, -1)))**2 for i,j in zip(test_data,test_labels)]) / len(test_data)\n",
        "#Standard Error\n",
        "print(f\"The standard error is {mean_squared_error[0]**0.5}\")"
      ],
      "metadata": {
        "colab": {
          "base_uri": "https://localhost:8080/"
        },
        "id": "st2TVghXKXYE",
        "outputId": "89973852-a7b1-4669-eda0-04623774b1fa"
      },
      "execution_count": 203,
      "outputs": [
        {
          "output_type": "stream",
          "name": "stdout",
          "text": [
            "The value of R^2 is 0.7052166300524005\n",
            "The standard error is 113127306.5616332\n"
          ]
        }
      ]
    },
    {
      "cell_type": "code",
      "source": [
        "regression_cols"
      ],
      "metadata": {
        "colab": {
          "base_uri": "https://localhost:8080/"
        },
        "id": "mLgwA45hdn9R",
        "outputId": "391c3545-8afe-4a88-967b-ca71c9a30c00"
      },
      "execution_count": 204,
      "outputs": [
        {
          "output_type": "execute_result",
          "data": {
            "text/plain": [
              "['runtime_minutes',\n",
              " 'director_birthyear',\n",
              " 'movie_averagerating',\n",
              " 'movie_numerofvotes',\n",
              " 'approval_index',\n",
              " 'production_budget_',\n",
              " 'year',\n",
              " 'Action',\n",
              " 'Adventure',\n",
              " 'Drama',\n",
              " 'No Genre',\n",
              " 'director_rating',\n",
              " 'Fall']"
            ]
          },
          "metadata": {},
          "execution_count": 204
        }
      ]
    },
    {
      "cell_type": "code",
      "source": [
        "\n",
        "#romance\n",
        "barbie = np.array([114,1983,7.4,202000,7,145000000,2023,0,0,0,0,8,0])\n",
        "#drama\n",
        "oppenheimer = np.array([180,1970,8.6,311000,8,100000000,2023,0,0,1,0,8,0])\n"
      ],
      "metadata": {
        "id": "y5P4jLCEXybs"
      },
      "execution_count": 205,
      "outputs": []
    },
    {
      "cell_type": "code",
      "source": [
        "barbie = scale(barbie, axis = 0)\n",
        "print(f\"Barbie's predicted gross is {reg.predict(barbie.reshape(1, -1))[0]} and the true gross is 1.05 billion\")\n",
        "oppenheimer = scale(oppenheimer, axis = 0)\n",
        "print(f\"Oppenheimer's predicted gross is {reg.predict(oppenheimer.reshape(1, -1))[0]} and the true gross is 552.9 million\")"
      ],
      "metadata": {
        "id": "7Pf2AEopbb-B",
        "colab": {
          "base_uri": "https://localhost:8080/"
        },
        "outputId": "47ec29bc-d829-4adb-87ff-0c1716221948"
      },
      "execution_count": 206,
      "outputs": [
        {
          "output_type": "stream",
          "name": "stdout",
          "text": [
            "Barbie's predicted gross is 508354930.08950627 and the true gross is 1.05 billion\n",
            "Oppenheimer's predicted gross is 508738565.4199824 and the true gross is 552.9 million\n"
          ]
        }
      ]
    },
    {
      "cell_type": "code",
      "source": [],
      "metadata": {
        "id": "u43MRzs2hf2A"
      },
      "execution_count": null,
      "outputs": []
    },
    {
      "cell_type": "markdown",
      "source": [
        "Trying out some different models; completely unfinished"
      ],
      "metadata": {
        "id": "Jqt9B4_RSDyX"
      }
    },
    {
      "cell_type": "markdown",
      "source": [
        "# Elastic Net"
      ],
      "metadata": {
        "id": "Ti0YS5W5ZKFl"
      }
    },
    {
      "cell_type": "code",
      "source": [
        "from sklearn.linear_model import ElasticNet\n",
        "\n",
        "#choosing columns from the dataset and scaling\n",
        "data = df_encoded.drop(labels = [\"movie_title\",\"production_date\",\"genres\",\"director_name\",\"director_professions\",\"director_birthyear\",\n",
        "             \"director_deathyear\",\"production_budget_\",\"domestic_gross_\",\"worldwide_gross_\",\"genre1\",\"genre2\",\"genre3\",\"season\"], axis = 1)\n",
        "scaled_data = scale(data, axis = 0)\n",
        "train_data, test_data, train_labels, test_labels = train_test_split(scaled_data, labels, test_size = 0.2, random_state = 4)\n",
        "\n",
        "regr = ElasticNet(random_state=0)\n",
        "regr.fit(train_data, train_labels)\n",
        "\n",
        "regr.score(test_data,test_labels)"
      ],
      "metadata": {
        "id": "3ueB3sEHMs17"
      },
      "execution_count": null,
      "outputs": []
    },
    {
      "cell_type": "code",
      "source": [
        "#ElasticNet has built in variable selection\n",
        "print(regr.n_features_in_)"
      ],
      "metadata": {
        "id": "KstFcCxoSzWo"
      },
      "execution_count": null,
      "outputs": []
    },
    {
      "cell_type": "markdown",
      "source": [
        "# Ridge"
      ],
      "metadata": {
        "id": "g6qAcRQGZSx3"
      }
    },
    {
      "cell_type": "code",
      "source": [
        "from sklearn.linear_model import Ridge\n",
        "import pandas as pd\n",
        "from numpy import arange\n",
        "from sklearn.linear_model import RidgeCV\n",
        "from sklearn.model_selection import RepeatedKFold\n",
        "clf = Ridge(alpha=1.0)\n",
        "clf.fit(train_data, train_labels)"
      ],
      "metadata": {
        "id": "duoPdlbJT6w8"
      },
      "execution_count": null,
      "outputs": []
    },
    {
      "cell_type": "code",
      "source": [
        "clf.score(test_data, test_labels)"
      ],
      "metadata": {
        "colab": {
          "base_uri": "https://localhost:8080/"
        },
        "id": "9i9pigNcYap6",
        "outputId": "19aeb2d0-b1df-4fdb-a7e1-05c6a0fcb8cc"
      },
      "execution_count": null,
      "outputs": [
        {
          "output_type": "execute_result",
          "data": {
            "text/plain": [
              "0.7107350427036203"
            ]
          },
          "metadata": {},
          "execution_count": 38
        }
      ]
    },
    {
      "cell_type": "code",
      "source": [
        "#Mean Squared Error\n",
        "mean_squared_error = sum([(j - clf.predict(np.array(i).reshape(1, -1)))**2 for i,j in zip(test_data,test_labels)]) / len(test_data)\n",
        "#Standard Error\n",
        "print(f\"The standard error is {mean_squared_error[0]**0.5}\")"
      ],
      "metadata": {
        "colab": {
          "base_uri": "https://localhost:8080/"
        },
        "id": "wk9dXiDWYsFK",
        "outputId": "dd040343-3057-4f05-b0b9-e370b15645d6"
      },
      "execution_count": null,
      "outputs": [
        {
          "output_type": "stream",
          "name": "stdout",
          "text": [
            "The standard error is 115970794.8439692\n"
          ]
        }
      ]
    },
    {
      "cell_type": "code",
      "source": [
        "#trying it with less features\n",
        "data = df_encoded[regression_cols]\n",
        "response = df_encoded[\"worldwide_gross_\"]\n",
        "scaled_data = scale(data, axis = 0)\n",
        "train_data, test_data, train_labels, test_labels = train_test_split(scaled_data, labels, test_size = 0.2, random_state = 4)\n",
        "\n",
        "clf = Ridge(alpha=1.0)\n",
        "clf.fit(train_data, train_labels)\n",
        "\n",
        "clf.score(test_data,test_labels)\n"
      ],
      "metadata": {
        "colab": {
          "base_uri": "https://localhost:8080/"
        },
        "id": "0melcAXOY3Sp",
        "outputId": "55b30dab-d983-4a2f-9572-f00030550107"
      },
      "execution_count": null,
      "outputs": [
        {
          "output_type": "execute_result",
          "data": {
            "text/plain": [
              "0.6335535556194265"
            ]
          },
          "metadata": {},
          "execution_count": 58
        }
      ]
    },
    {
      "cell_type": "code",
      "source": [
        "#data = df_encoded[['runtime_minutes', 'director_birthyear', 'movie_averagerating', 'movie_numerofvotes', 'approval_index', 'production_budget_',\n",
        "                  #'year', 'Action', 'Adventure', 'Animation', 'Crime', 'Drama', 'Fantasy', 'No Genre', 'Romance', 'Sci-Fi', \"worldwide_gross_\"]]\n",
        "\n",
        "data[0:len(regression_cols)]\n",
        "response[0:len(regression_cols)]\n",
        "cross = RepeatedKFold(n_splits=10, n_repeats=3, random_state=1)\n",
        "\n",
        "model = RidgeCV(alphas=1, cv=cross, scoring='neg_mean_absolute_error')\n",
        "#model.fit(data,response)"
      ],
      "metadata": {
        "id": "yKw0GhDKzE1T"
      },
      "execution_count": null,
      "outputs": []
    }
  ]
}