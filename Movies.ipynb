{
  "nbformat": 4,
  "nbformat_minor": 0,
  "metadata": {
    "colab": {
      "provenance": []
    },
    "kernelspec": {
      "name": "python3",
      "display_name": "Python 3"
    },
    "language_info": {
      "name": "python"
    }
  },
  "cells": [
    {
      "cell_type": "markdown",
      "source": [
        "# Exploratory Data Analysis"
      ],
      "metadata": {
        "id": "xp_MHz6XT_u5"
      }
    },
    {
      "cell_type": "code",
      "source": [
        "import pandas as pd\n",
        "import numpy as np\n",
        "from datetime import datetime\n",
        "\n"
      ],
      "metadata": {
        "id": "P5w34bXpT8o9"
      },
      "execution_count": null,
      "outputs": []
    },
    {
      "cell_type": "code",
      "source": [
        "df = pd.read_csv(\"movie_statistic_dataset.csv\")\n",
        "df.columns = df.columns.str.lower().str.replace('$', '').str.replace(' ', '_')"
      ],
      "metadata": {
        "colab": {
          "base_uri": "https://localhost:8080/"
        },
        "id": "iC3U1AP_Fy5T",
        "outputId": "ba8e016f-9678-4a4c-9809-bec50d58955a"
      },
      "execution_count": null,
      "outputs": [
        {
          "output_type": "stream",
          "name": "stderr",
          "text": [
            "<ipython-input-468-28621a4cda64>:2: FutureWarning: The default value of regex will change from True to False in a future version. In addition, single character regular expressions will *not* be treated as literal strings when regex=True.\n",
            "  df.columns = df.columns.str.lower().str.replace('$', '').str.replace(' ', '_')\n"
          ]
        }
      ]
    },
    {
      "cell_type": "code",
      "source": [
        "# Custom function to split the string and fill in \"No Genre\" if elements are missing;\n",
        "# \"No Genre\" is better than NA in this scenario because we are going to encode the column later on\n",
        "def split_genres(s):\n",
        "    genres = s.split(\",\")\n",
        "    if len(genres) >= 3:\n",
        "        return genres[0], genres[1], genres[2]\n",
        "    elif len(genres) == 2:\n",
        "        return genres[0], genres[1], \"No Genre\"\n",
        "    elif len(genres) == 1:\n",
        "        return genres[0], \"No Genre\",\"No Genre\"\n",
        "    else:\n",
        "        return \"No Genre\",\"No Genre\",\"No Genre\"\n",
        "\n",
        "# Apply the custom function to create new columns\n",
        "df['genre1'], df['genre2'], df['genre3'] = zip(*df['genres'].apply(split_genres))\n",
        "\n",
        "#custom function to split director_professions\n",
        "def split_jobs(s):\n",
        "    jobs = s.split(\",\")\n",
        "    if len(jobs) >= 3:\n",
        "        return jobs[0], jobs[1], jobs[2]\n",
        "    elif len(jobs) == 2:\n",
        "        return jobs[0], jobs[1], \"No director\"\n",
        "    elif len(jobs) == 1:\n",
        "        return jobs[0], \"No director\",\"No director\"\n",
        "    else:\n",
        "        return \"No director\",\"No director\",\"No director\"\n",
        "\n",
        "# Apply the custom function to create new columns\n",
        "#df['job1'], df['job2'], df['job3'] = zip(*df['director_professions'].apply(split_jobs))\n",
        "\n",
        "\n"
      ],
      "metadata": {
        "id": "CluXuGHtJiAh"
      },
      "execution_count": null,
      "outputs": []
    },
    {
      "cell_type": "code",
      "source": [
        "#handling these NAs in a specific manner because the columns are being encoded\n",
        "df['genre1'].replace(\"\\\\N\",\"No Genre\",inplace = True)\n",
        "#df['job1'].replace(np.nan,\"No director\",inplace = True)\n",
        "#replace \"-\" and \"\\N\" with null\n",
        "df.replace(\"-\",np.nan,inplace = True)\n",
        "df.replace(\"\\\\N\",np.nan,inplace = True)\n",
        "#changing missing years to zeroes; open to different ideas\n",
        "df['director_birthyear'].replace(np.nan,0,inplace=True)\n",
        "df['director_deathyear'].replace(np.nan,0,inplace=True)\n",
        "df['director_deathyear'].replace(\"alive\",0,inplace=True)"
      ],
      "metadata": {
        "id": "QMeB0NPzFmzY"
      },
      "execution_count": null,
      "outputs": []
    },
    {
      "cell_type": "code",
      "source": [
        "#check for null values; we ignore the string columns\n",
        "df.isnull().sum()"
      ],
      "metadata": {
        "colab": {
          "base_uri": "https://localhost:8080/"
        },
        "id": "v7_oOQWPLsmX",
        "outputId": "e0e4aef9-0268-466d-9ded-78612c36cb09"
      },
      "execution_count": null,
      "outputs": [
        {
          "output_type": "execute_result",
          "data": {
            "text/plain": [
              "movie_title               0\n",
              "production_date           0\n",
              "genres                    2\n",
              "runtime_minutes           0\n",
              "director_name           326\n",
              "director_professions    333\n",
              "director_birthyear        0\n",
              "director_deathyear        0\n",
              "movie_averagerating       0\n",
              "movie_numerofvotes        0\n",
              "approval_index            0\n",
              "production_budget_        0\n",
              "domestic_gross_           0\n",
              "worldwide_gross_          0\n",
              "genre1                    0\n",
              "genre2                    0\n",
              "genre3                    0\n",
              "dtype: int64"
            ]
          },
          "metadata": {},
          "execution_count": 471
        }
      ]
    },
    {
      "cell_type": "code",
      "source": [
        "#I want to break out the production date column; also, fairly certain production means release date\n",
        "from datetime import datetime\n",
        "df['year'] = df.production_date.apply(lambda x:datetime.strptime(x, '%Y-%m-%d').year)\n",
        "df['month'] = df.production_date.apply(lambda x:datetime.strptime(x, '%Y-%m-%d').month)\n",
        "#creating a season column so we can analyze by season if we want; I suspect summer matters, at least historically\n",
        "season_dict = {1:\"Winter\",2:\"Winter\",3:\"Spring\",4:\"Spring\",5:\"Spring\",6:\"Summer\",\n",
        "               7:\"Summer\",8:\"Summer\",9:\"Fall\",10:\"Fall\",11:\"Fall\",12:\"Winter\"}\n",
        "df['season'] = df.production_date.apply(lambda x:season_dict[datetime.strptime(x, '%Y-%m-%d').month])"
      ],
      "metadata": {
        "id": "KxjOEJkAMROR"
      },
      "execution_count": null,
      "outputs": []
    },
    {
      "cell_type": "code",
      "source": [
        "#I want to take a look at correlation after encoding different columns\n",
        "one_hot_encoded = pd.get_dummies(df['season'])\n",
        "df_encoded = pd.concat([df, one_hot_encoded], axis=1)"
      ],
      "metadata": {
        "id": "2DUiaNr4RxoM"
      },
      "execution_count": null,
      "outputs": []
    },
    {
      "cell_type": "code",
      "source": [
        "one_hot_encoded = pd.get_dummies(df['genre1'])\n",
        "df_encoded = pd.concat([df, one_hot_encoded], axis=1)\n"
      ],
      "metadata": {
        "id": "M4D8P5gB7TzP"
      },
      "execution_count": null,
      "outputs": []
    },
    {
      "cell_type": "code",
      "source": [
        "#one_hot_encoded = pd.get_dummies(df['job1'])\n",
        "#df_encoded = pd.concat([df, one_hot_encoded], axis=1)"
      ],
      "metadata": {
        "id": "oJ9MNNbn7XBa"
      },
      "execution_count": null,
      "outputs": []
    },
    {
      "cell_type": "markdown",
      "source": [
        "Check which columns weren't created by the hot encoding above"
      ],
      "metadata": {
        "id": "slZ5Zuq2Hh0-"
      }
    },
    {
      "cell_type": "code",
      "source": [
        "print(set([name for name in list(df[\"genre2\"]) + list(df[\"genre3\"])  if name not in df_encoded.columns]))\n",
        "new_cols = set([name for name in list(df[\"genre2\"]) + list(df[\"genre3\"]) if name not in df_encoded.columns])\n"
      ],
      "metadata": {
        "colab": {
          "base_uri": "https://localhost:8080/"
        },
        "id": "fuhJw89wHAPY",
        "outputId": "f216d582-dcda-434f-fb63-571c9af65b69"
      },
      "execution_count": null,
      "outputs": [
        {
          "output_type": "stream",
          "name": "stdout",
          "text": [
            "{'Sport', 'War', 'History', 'News'}\n"
          ]
        }
      ]
    },
    {
      "cell_type": "code",
      "source": [
        "for c in new_cols:\n",
        "  df_encoded[c] = [0] * len(df_encoded)"
      ],
      "metadata": {
        "id": "-eZOGuGkHsQc"
      },
      "execution_count": null,
      "outputs": []
    },
    {
      "cell_type": "markdown",
      "source": [
        "Here I want to fix the encoding so that genres 2 and 3 are accounted for"
      ],
      "metadata": {
        "id": "OgywrAOxEm1U"
      }
    },
    {
      "cell_type": "code",
      "source": [
        "for row in range(len(df_encoded)):\n",
        "\n",
        "  df_encoded[df[\"genre2\"][row]][row] += 1\n",
        "  df_encoded[df[\"genre3\"][row]][row] += 1\n",
        "  #df_encoded[df[\"job2\"][row]][row] += 1\n",
        "  #df_encoded[df[\"job3\"][row]][row] += 1\n",
        "\n"
      ],
      "metadata": {
        "colab": {
          "base_uri": "https://localhost:8080/"
        },
        "id": "6zKtIIuPSM_v",
        "outputId": "460a66dc-e34f-4a44-dc8b-20f6950a1693"
      },
      "execution_count": null,
      "outputs": [
        {
          "output_type": "stream",
          "name": "stderr",
          "text": [
            "<ipython-input-478-c6b8a34bfdb7>:3: SettingWithCopyWarning: \n",
            "A value is trying to be set on a copy of a slice from a DataFrame\n",
            "\n",
            "See the caveats in the documentation: https://pandas.pydata.org/pandas-docs/stable/user_guide/indexing.html#returning-a-view-versus-a-copy\n",
            "  df_encoded[df[\"genre2\"][row]][row] += 1\n",
            "<ipython-input-478-c6b8a34bfdb7>:4: SettingWithCopyWarning: \n",
            "A value is trying to be set on a copy of a slice from a DataFrame\n",
            "\n",
            "See the caveats in the documentation: https://pandas.pydata.org/pandas-docs/stable/user_guide/indexing.html#returning-a-view-versus-a-copy\n",
            "  df_encoded[df[\"genre3\"][row]][row] += 1\n"
          ]
        }
      ]
    },
    {
      "cell_type": "code",
      "source": [
        "#checking to make sure the encoding worled; note the 1s in Action Adventure and Fantasy columns\n",
        "df_encoded.iloc[0,:30]"
      ],
      "metadata": {
        "colab": {
          "base_uri": "https://localhost:8080/"
        },
        "id": "8J7boODcIH9g",
        "outputId": "8e4da23f-5064-4750-df2d-b8250ca77c74"
      },
      "execution_count": null,
      "outputs": [
        {
          "output_type": "execute_result",
          "data": {
            "text/plain": [
              "movie_title             Avatar: The Way of Water\n",
              "production_date                       2022-12-09\n",
              "genres                  Action,Adventure,Fantasy\n",
              "runtime_minutes                            192.0\n",
              "director_name                      James Cameron\n",
              "director_professions    writer,producer,director\n",
              "director_birthyear                          1954\n",
              "director_deathyear                             0\n",
              "movie_averagerating                          7.8\n",
              "movie_numerofvotes                      277543.0\n",
              "approval_index                          7.061101\n",
              "production_budget_                     460000000\n",
              "domestic_gross_                        667830256\n",
              "worldwide_gross_                      2265935552\n",
              "genre1                                    Action\n",
              "genre2                                 Adventure\n",
              "genre3                                   Fantasy\n",
              "year                                        2022\n",
              "month                                         12\n",
              "season                                    Winter\n",
              "Action                                         1\n",
              "Adventure                                      1\n",
              "Animation                                      0\n",
              "Biography                                      0\n",
              "Comedy                                         0\n",
              "Crime                                          0\n",
              "Documentary                                    0\n",
              "Drama                                          0\n",
              "Family                                         0\n",
              "Fantasy                                        1\n",
              "Name: 0, dtype: object"
            ]
          },
          "metadata": {},
          "execution_count": 479
        }
      ]
    },
    {
      "cell_type": "code",
      "source": [
        "import matplotlib.pyplot as plt\n",
        "import seaborn as sns\n",
        "sns.histplot(df[\"production_budget_\"], binwidth = 25000000, binrange = (0,500000000))\n",
        "len(df[df.production_budget_ < 25000000])"
      ],
      "metadata": {
        "colab": {
          "base_uri": "https://localhost:8080/",
          "height": 467
        },
        "id": "9JJj31N2-jT3",
        "outputId": "ee09b734-bd9c-4f30-8577-25fe382e0f8d"
      },
      "execution_count": null,
      "outputs": [
        {
          "output_type": "execute_result",
          "data": {
            "text/plain": [
              "2233"
            ]
          },
          "metadata": {},
          "execution_count": 480
        },
        {
          "output_type": "display_data",
          "data": {
            "text/plain": [
              "<Figure size 640x480 with 1 Axes>"
            ],
            "image/png": "[encoded data removed]"
          },
          "metadata": {}
        }
      ]
    },
    {
      "cell_type": "code",
      "source": [
        "sns.boxplot(x = df.production_budget_)"
      ],
      "metadata": {
        "colab": {
          "base_uri": "https://localhost:8080/",
          "height": 467
        },
        "id": "JU1nITkDeuWN",
        "outputId": "aebb99f3-33ab-4e29-bc19-6469737464f1"
      },
      "execution_count": null,
      "outputs": [
        {
          "output_type": "execute_result",
          "data": {
            "text/plain": [
              "<Axes: xlabel='production_budget_'>"
            ]
          },
          "metadata": {},
          "execution_count": 481
        },
        {
          "output_type": "display_data",
          "data": {
            "text/plain": [
              "<Figure size 640x480 with 1 Axes>"
            ],
            "image/png": "[encoded data removed]"
          },
          "metadata": {}
        }
      ]
    },
    {
      "cell_type": "code",
      "source": [
        "sns.histplot(df[\"worldwide_gross_\"], binwidth = 25000000, binrange = (0,1000000000))\n",
        "len(df[df.worldwide_gross_ < 200000000])"
      ],
      "metadata": {
        "colab": {
          "base_uri": "https://localhost:8080/",
          "height": 467
        },
        "id": "i-k_Ha8t-WdK",
        "outputId": "29a985eb-275f-446e-9153-1c7f81e75ea0"
      },
      "execution_count": null,
      "outputs": [
        {
          "output_type": "execute_result",
          "data": {
            "text/plain": [
              "3668"
            ]
          },
          "metadata": {},
          "execution_count": 482
        },
        {
          "output_type": "display_data",
          "data": {
            "text/plain": [
              "<Figure size 640x480 with 1 Axes>"
            ],
            "image/png": "[encoded data removed]"
          },
          "metadata": {}
        }
      ]
    },
    {
      "cell_type": "code",
      "source": [
        "sns.boxplot(x = df.worldwide_gross_)"
      ],
      "metadata": {
        "colab": {
          "base_uri": "https://localhost:8080/",
          "height": 467
        },
        "id": "AE9hQ7htf0XT",
        "outputId": "a3567d5b-095c-4228-8c21-677c3f3c6067"
      },
      "execution_count": null,
      "outputs": [
        {
          "output_type": "execute_result",
          "data": {
            "text/plain": [
              "<Axes: xlabel='worldwide_gross_'>"
            ]
          },
          "metadata": {},
          "execution_count": 483
        },
        {
          "output_type": "display_data",
          "data": {
            "text/plain": [
              "<Figure size 640x480 with 1 Axes>"
            ],
            "image/png": "[encoded data removed]"
          },
          "metadata": {}
        }
      ]
    },
    {
      "cell_type": "code",
      "source": [
        "((np.percentile(df.production_budget_,75) - np.percentile(df.production_budget_,25) ) * 1.5) +  np.percentile(df.production_budget_,75)"
      ],
      "metadata": {
        "colab": {
          "base_uri": "https://localhost:8080/"
        },
        "id": "ozZidSLdgcFJ",
        "outputId": "3c822658-14d3-4f3b-fc57-94917c5b89ad"
      },
      "execution_count": null,
      "outputs": [
        {
          "output_type": "execute_result",
          "data": {
            "text/plain": [
              "110000000.0"
            ]
          },
          "metadata": {},
          "execution_count": 484
        }
      ]
    },
    {
      "cell_type": "code",
      "source": [
        "df_encoded['ratio'] = df['worldwide_gross_'] / df['production_budget_']"
      ],
      "metadata": {
        "id": "8VYZ0kbQHLgy"
      },
      "execution_count": null,
      "outputs": []
    },
    {
      "cell_type": "code",
      "source": [
        "#data = df_encoded[df_encoded.production_budget_ <= 11000000]\n",
        "\n",
        "labels = df_encoded[\"worldwide_gross_\"]\n",
        "#labels = df_encoded['ratio']\n",
        "data = df_encoded.drop(labels = [\"movie_title\",\"production_date\",\"genres\",\"director_name\",\"director_professions\",\n",
        "                           \"domestic_gross_\",\"worldwide_gross_\",\"genre1\",\"genre2\",\"genre3\",\"season\",\"ratio\"], axis = 1)\n"
      ],
      "metadata": {
        "id": "Q6B2fpxHVTMk"
      },
      "execution_count": null,
      "outputs": []
    },
    {
      "cell_type": "code",
      "source": [
        "from sklearn.preprocessing import scale\n",
        "from sklearn.linear_model import LinearRegression\n",
        "from sklearn.model_selection import train_test_split\n",
        "scaled_data = scale(data, axis = 0)\n",
        "train_data, test_data, train_labels, test_labels = train_test_split(scaled_data, labels, test_size = 0.2, random_state = 100)"
      ],
      "metadata": {
        "id": "C2pX4fgyYuBE"
      },
      "execution_count": null,
      "outputs": []
    },
    {
      "cell_type": "code",
      "source": [
        "#train the model\n",
        "reg = LinearRegression().fit(train_data, train_labels)\n",
        "#R^2 score\n",
        "print(f\"The value of R^2 is {reg.score(test_data,test_labels)}\")\n",
        "#this creates a list of tuples (real, predicted) in case you want to look\n",
        "predictions_true = [(j,reg.predict(np.array(i).reshape(1, -1))) for i,j in zip(test_data,test_labels)]\n",
        "#Mean Squared Error\n",
        "mean_squared_error = sum([(j - reg.predict(np.array(i).reshape(1, -1)))**2 for i,j in zip(test_data,test_labels)]) / len(test_data)\n",
        "#Standard Error\n",
        "print(f\"The standard error is {mean_squared_error[0]**0.5}\")"
      ],
      "metadata": {
        "colab": {
          "base_uri": "https://localhost:8080/"
        },
        "id": "Iq-yTx82K5Li",
        "outputId": "1fa3a0a8-51a5-498a-d06b-f13f47fe2e85"
      },
      "execution_count": null,
      "outputs": [
        {
          "output_type": "stream",
          "name": "stdout",
          "text": [
            "The value of R^2 is 0.6940055790048394\n",
            "The standard error is 116173298.6759156\n"
          ]
        }
      ]
    },
    {
      "cell_type": "code",
      "source": [
        "from sklearn.feature_selection import SelectKBest, f_regression\n",
        "r_average = [0] * 33\n",
        "for trial in range(100):\n",
        "  rsquareds = []\n",
        "  for num in range(1,34):\n",
        "    #feature selection algorithm is always ran on same random state\n",
        "    scaled_data = scale(data, axis = 0)\n",
        "    train_data, test_data, train_labels, test_labels = train_test_split(scaled_data, labels, test_size = 0.2,random_state=2308)\n",
        "    k_best = SelectKBest(f_regression, k=num)\n",
        "    X_new = k_best.fit_transform(train_data, train_labels)\n",
        "    indices = k_best.get_support(indices=True)\n",
        "    regression_cols = [data.columns[i] for i in indices]\n",
        "    #choosing columns from the dataset and scaling\n",
        "    new_data = data[regression_cols]\n",
        "    new_scaled_data = scale(new_data, axis = 0)\n",
        "    #no random state specified here so it will always be randomized\n",
        "    train_data, test_data, train_labels, test_labels = train_test_split(new_scaled_data, labels, test_size = 0.2)\n",
        "    #train the model\n",
        "    reg = LinearRegression().fit(train_data, train_labels)\n",
        "    rsquareds.append(reg.score(test_data,test_labels))\n",
        "  r_average = [i + j for i,j in zip(rsquareds,r_average)]\n"
      ],
      "metadata": {
        "id": "JrDHWw7d-8F9"
      },
      "execution_count": null,
      "outputs": []
    },
    {
      "cell_type": "code",
      "source": [
        "x = [i for i in range(1,32)]\n",
        "y = [i/100 for i in r_average][:31]\n",
        "plt.plot(x,y, marker = \"o\")\n",
        "plt.xlabel(\"Number of Features\")\n",
        "plt.ylabel(\"R-squared\")\n",
        "plt.xticks([i for i in range(0,32,2)])\n",
        "plt.title(\"Feature Selection\")\n",
        "plt.show"
      ],
      "metadata": {
        "colab": {
          "base_uri": "https://localhost:8080/",
          "height": 489
        },
        "id": "SEVnKgnSFYli",
        "outputId": "a2a87f5d-f9d7-4f6a-e106-ff2f1afa862c"
      },
      "execution_count": null,
      "outputs": [
        {
          "output_type": "execute_result",
          "data": {
            "text/plain": [
              "<function matplotlib.pyplot.show(close=None, block=None)>"
            ]
          },
          "metadata": {},
          "execution_count": 511
        },
        {
          "output_type": "display_data",
          "data": {
            "text/plain": [
              "<Figure size 640x480 with 1 Axes>"
            ],
            "image/png": "[encoded data removed]"
          },
          "metadata": {}
        }
      ]
    },
    {
      "cell_type": "code",
      "source": [
        "scaled_data = scale(data, axis = 0)\n",
        "train_data, test_data, train_labels, test_labels = train_test_split(scaled_data, labels, test_size = 0.2,random_state=2308)\n",
        "k_best = SelectKBest(f_regression, k=13)\n",
        "X_new = k_best.fit_transform(train_data, train_labels)\n",
        "indices = k_best.get_support(indices=True)\n",
        "regression_cols = [data.columns[i] for i in indices]\n",
        "new_data = data[regression_cols]\n",
        "new_scaled_data = scale(new_data, axis = 0)\n",
        "train_data, test_data, train_labels, test_labels = train_test_split(new_scaled_data, labels, test_size = 0.2)\n",
        "#train the model\n",
        "reg = LinearRegression().fit(train_data, train_labels)\n",
        "print(f\"The value of R^2 is {reg.score(test_data,test_labels)}\")\n",
        "#this creates a list of tuples (real, predicted) in case you want to look\n",
        "predictions_true = [(j,reg.predict(np.array(i).reshape(1, -1))[0]) for i,j in zip(test_data,test_labels)]\n",
        "#Mean Squared Error\n",
        "mean_squared_error = sum([(j - reg.predict(np.array(i).reshape(1, -1)))**2 for i,j in zip(test_data,test_labels)]) / len(test_data)\n",
        "#Standard Error\n",
        "print(f\"The standard error is {mean_squared_error[0]**0.5}\")"
      ],
      "metadata": {
        "colab": {
          "base_uri": "https://localhost:8080/"
        },
        "id": "st2TVghXKXYE",
        "outputId": "7bc86801-1683-4530-85c8-9e1e81a7c6fe"
      },
      "execution_count": null,
      "outputs": [
        {
          "output_type": "stream",
          "name": "stdout",
          "text": [
            "The value of R^2 is 0.6672318222945117\n",
            "The standard error is 105344696.53055456\n"
          ]
        }
      ]
    },
    {
      "cell_type": "code",
      "source": [
        "regression_cols"
      ],
      "metadata": {
        "colab": {
          "base_uri": "https://localhost:8080/"
        },
        "id": "mLgwA45hdn9R",
        "outputId": "d7fbbc86-f5a1-4738-cb2d-b0bf19f4d931"
      },
      "execution_count": null,
      "outputs": [
        {
          "output_type": "execute_result",
          "data": {
            "text/plain": [
              "['runtime_minutes',\n",
              " 'movie_averagerating',\n",
              " 'movie_numerofvotes',\n",
              " 'approval_index',\n",
              " 'production_budget_',\n",
              " 'year',\n",
              " 'Action',\n",
              " 'Adventure',\n",
              " 'Animation',\n",
              " 'Drama',\n",
              " 'No Genre',\n",
              " 'Romance',\n",
              " 'Sci-Fi']"
            ]
          },
          "metadata": {},
          "execution_count": 521
        }
      ]
    },
    {
      "cell_type": "code",
      "source": [
        "\n",
        "#romance\n",
        "barbie = np.array([114,7.4,202000,7,145000000,2023,0,0,0,0,0,1,0])\n",
        "#drama\n",
        "oppenheimer = np.array([180,8.6,311000,8,100000000,2023,0,0,0,1,0,0,0])\n"
      ],
      "metadata": {
        "id": "y5P4jLCEXybs"
      },
      "execution_count": null,
      "outputs": []
    },
    {
      "cell_type": "code",
      "source": [
        "barbie = scale(barbie, axis = 0)\n",
        "print(f\"Barbie's predicted gross is {reg.predict(barbie.reshape(1, -1))[0]} and the true gross is 1.05 billion\")\n",
        "oppenheimer = scale(oppenheimer, axis = 0)\n",
        "print(f\"Oppenheimer's predicted gross is {reg.predict(oppenheimer.reshape(1, -1))[0]} and the true gross is 552.9 million\")"
      ],
      "metadata": {
        "colab": {
          "base_uri": "https://localhost:8080/"
        },
        "id": "7Pf2AEopbb-B",
        "outputId": "8248891b-b937-42ff-8291-0fba91b15e8c"
      },
      "execution_count": null,
      "outputs": [
        {
          "output_type": "stream",
          "name": "stdout",
          "text": [
            "Barbie's predicted gross is 493938672.6627519 and the true gross is 1.05 billion\n",
            "Oppenheimer's predicted gross is 494314393.9729307 and the true gross is 552.9 million\n"
          ]
        }
      ]
    },
    {
      "cell_type": "code",
      "source": [],
      "metadata": {
        "id": "u43MRzs2hf2A"
      },
      "execution_count": null,
      "outputs": []
    },
    {
      "cell_type": "markdown",
      "source": [
        "Trying out some different models; completely unfinished"
      ],
      "metadata": {
        "id": "Jqt9B4_RSDyX"
      }
    },
    {
      "cell_type": "markdown",
      "source": [
        "# Elastic Net"
      ],
      "metadata": {
        "id": "Ti0YS5W5ZKFl"
      }
    },
    {
      "cell_type": "code",
      "source": [
        "from sklearn.linear_model import ElasticNet\n",
        "\n",
        "#choosing columns from the dataset and scaling\n",
        "data = df_encoded.drop(labels = [\"movie_title\",\"production_date\",\"genres\",\"director_name\",\"director_professions\",\"director_birthyear\",\n",
        "             \"director_deathyear\",\"production_budget_\",\"domestic_gross_\",\"worldwide_gross_\",\"genre1\",\"genre2\",\"genre3\",\"season\"], axis = 1)\n",
        "scaled_data = scale(data, axis = 0)\n",
        "train_data, test_data, train_labels, test_labels = train_test_split(scaled_data, labels, test_size = 0.2, random_state = 4)\n",
        "\n",
        "regr = ElasticNet(random_state=0)\n",
        "regr.fit(train_data, train_labels)\n",
        "\n",
        "regr.score(test_data,test_labels)"
      ],
      "metadata": {
        "colab": {
          "base_uri": "https://localhost:8080/"
        },
        "id": "3ueB3sEHMs17",
        "outputId": "a8d8b00a-b1dc-482b-d076-9dee4e7d4e3a"
      },
      "execution_count": null,
      "outputs": [
        {
          "output_type": "execute_result",
          "data": {
            "text/plain": [
              "0.45750157369872446"
            ]
          },
          "metadata": {},
          "execution_count": 113
        }
      ]
    },
    {
      "cell_type": "code",
      "source": [
        "#ElasticNet has built in variable selection\n",
        "print(regr.n_features_in_)"
      ],
      "metadata": {
        "colab": {
          "base_uri": "https://localhost:8080/"
        },
        "id": "KstFcCxoSzWo",
        "outputId": "4f4cfe85-8261-45ec-8c43-c6a1523ba6d7"
      },
      "execution_count": null,
      "outputs": [
        {
          "output_type": "stream",
          "name": "stdout",
          "text": [
            "29\n"
          ]
        }
      ]
    },
    {
      "cell_type": "markdown",
      "source": [
        "# Ridge"
      ],
      "metadata": {
        "id": "g6qAcRQGZSx3"
      }
    },
    {
      "cell_type": "code",
      "source": [
        "from sklearn.linear_model import Ridge\n",
        "clf = Ridge(alpha=1.0)\n",
        "clf.fit(train_data, train_labels)"
      ],
      "metadata": {
        "colab": {
          "base_uri": "https://localhost:8080/",
          "height": 75
        },
        "id": "duoPdlbJT6w8",
        "outputId": "6b666dba-bd9d-4527-f313-047468691006"
      },
      "execution_count": null,
      "outputs": [
        {
          "output_type": "execute_result",
          "data": {
            "text/plain": [
              "Ridge()"
            ],
            "text/html": [
              "<style>#sk-container-id-3 {color: black;background-color: white;}#sk-container-id-3 pre{padding: 0;}#sk-container-id-3 div.sk-toggleable {background-color: white;}#sk-container-id-3 label.sk-toggleable__label {cursor: pointer;display: block;width: 100%;margin-bottom: 0;padding: 0.3em;box-sizing: border-box;text-align: center;}#sk-container-id-3 label.sk-toggleable__label-arrow:before {content: \"▸\";float: left;margin-right: 0.25em;color: #696969;}#sk-container-id-3 label.sk-toggleable__label-arrow:hover:before {color: black;}#sk-container-id-3 div.sk-estimator:hover label.sk-toggleable__label-arrow:before {color: black;}#sk-container-id-3 div.sk-toggleable__content {max-height: 0;max-width: 0;overflow: hidden;text-align: left;background-color: #f0f8ff;}#sk-container-id-3 div.sk-toggleable__content pre {margin: 0.2em;color: black;border-radius: 0.25em;background-color: #f0f8ff;}#sk-container-id-3 input.sk-toggleable__control:checked~div.sk-toggleable__content {max-height: 200px;max-width: 100%;overflow: auto;}#sk-container-id-3 input.sk-toggleable__control:checked~label.sk-toggleable__label-arrow:before {content: \"▾\";}#sk-container-id-3 div.sk-estimator input.sk-toggleable__control:checked~label.sk-toggleable__label {background-color: #d4ebff;}#sk-container-id-3 div.sk-label input.sk-toggleable__control:checked~label.sk-toggleable__label {background-color: #d4ebff;}#sk-container-id-3 input.sk-hidden--visually {border: 0;clip: rect(1px 1px 1px 1px);clip: rect(1px, 1px, 1px, 1px);height: 1px;margin: -1px;overflow: hidden;padding: 0;position: absolute;width: 1px;}#sk-container-id-3 div.sk-estimator {font-family: monospace;background-color: #f0f8ff;border: 1px dotted black;border-radius: 0.25em;box-sizing: border-box;margin-bottom: 0.5em;}#sk-container-id-3 div.sk-estimator:hover {background-color: #d4ebff;}#sk-container-id-3 div.sk-parallel-item::after {content: \"\";width: 100%;border-bottom: 1px solid gray;flex-grow: 1;}#sk-container-id-3 div.sk-label:hover label.sk-toggleable__label {background-color: #d4ebff;}#sk-container-id-3 div.sk-serial::before {content: \"\";position: absolute;border-left: 1px solid gray;box-sizing: border-box;top: 0;bottom: 0;left: 50%;z-index: 0;}#sk-container-id-3 div.sk-serial {display: flex;flex-direction: column;align-items: center;background-color: white;padding-right: 0.2em;padding-left: 0.2em;position: relative;}#sk-container-id-3 div.sk-item {position: relative;z-index: 1;}#sk-container-id-3 div.sk-parallel {display: flex;align-items: stretch;justify-content: center;background-color: white;position: relative;}#sk-container-id-3 div.sk-item::before, #sk-container-id-3 div.sk-parallel-item::before {content: \"\";position: absolute;border-left: 1px solid gray;box-sizing: border-box;top: 0;bottom: 0;left: 50%;z-index: -1;}#sk-container-id-3 div.sk-parallel-item {display: flex;flex-direction: column;z-index: 1;position: relative;background-color: white;}#sk-container-id-3 div.sk-parallel-item:first-child::after {align-self: flex-end;width: 50%;}#sk-container-id-3 div.sk-parallel-item:last-child::after {align-self: flex-start;width: 50%;}#sk-container-id-3 div.sk-parallel-item:only-child::after {width: 0;}#sk-container-id-3 div.sk-dashed-wrapped {border: 1px dashed gray;margin: 0 0.4em 0.5em 0.4em;box-sizing: border-box;padding-bottom: 0.4em;background-color: white;}#sk-container-id-3 div.sk-label label {font-family: monospace;font-weight: bold;display: inline-block;line-height: 1.2em;}#sk-container-id-3 div.sk-label-container {text-align: center;}#sk-container-id-3 div.sk-container {/* jupyter's `normalize.less` sets `[hidden] { display: none; }` but bootstrap.min.css set `[hidden] { display: none !important; }` so we also need the `!important` here to be able to override the default hidden behavior on the sphinx rendered scikit-learn.org. See: https://github.com/scikit-learn/scikit-learn/issues/21755 */display: inline-block !important;position: relative;}#sk-container-id-3 div.sk-text-repr-fallback {display: none;}</style><div id=\"sk-container-id-3\" class=\"sk-top-container\"><div class=\"sk-text-repr-fallback\"><pre>Ridge()</pre><b>In a Jupyter environment, please rerun this cell to show the HTML representation or trust the notebook. <br />On GitHub, the HTML representation is unable to render, please try loading this page with nbviewer.org.</b></div><div class=\"sk-container\" hidden><div class=\"sk-item\"><div class=\"sk-estimator sk-toggleable\"><input class=\"sk-toggleable__control sk-hidden--visually\" id=\"sk-estimator-id-3\" type=\"checkbox\" checked><label for=\"sk-estimator-id-3\" class=\"sk-toggleable__label sk-toggleable__label-arrow\">Ridge</label><div class=\"sk-toggleable__content\"><pre>Ridge()</pre></div></div></div></div></div>"
            ]
          },
          "metadata": {},
          "execution_count": 121
        }
      ]
    },
    {
      "cell_type": "code",
      "source": [
        "clf.score(test_data, test_labels)"
      ],
      "metadata": {
        "colab": {
          "base_uri": "https://localhost:8080/"
        },
        "id": "9i9pigNcYap6",
        "outputId": "804fba8b-962f-4a2c-965d-5a1a4185272c"
      },
      "execution_count": null,
      "outputs": [
        {
          "output_type": "execute_result",
          "data": {
            "text/plain": [
              "0.4992729446662538"
            ]
          },
          "metadata": {},
          "execution_count": 122
        }
      ]
    },
    {
      "cell_type": "code",
      "source": [
        "#Mean Squared Error\n",
        "mean_squared_error = sum([(j - clf.predict(np.array(i).reshape(1, -1)))**2 for i,j in zip(test_data,test_labels)]) / len(test_data)\n",
        "#Standard Error\n",
        "print(f\"The standard error is {mean_squared_error[0]**0.5}\")"
      ],
      "metadata": {
        "colab": {
          "base_uri": "https://localhost:8080/"
        },
        "id": "wk9dXiDWYsFK",
        "outputId": "f610499b-3861-447c-9cbd-14da035fb878"
      },
      "execution_count": null,
      "outputs": [
        {
          "output_type": "stream",
          "name": "stdout",
          "text": [
            "The standard error is 142987814.46649146\n"
          ]
        }
      ]
    },
    {
      "cell_type": "code",
      "source": [
        "#trying it with less features\n",
        "data = df_encoded[regression_cols]\n",
        "scaled_data = scale(data, axis = 0)\n",
        "train_data, test_data, train_labels, test_labels = train_test_split(scaled_data, labels, test_size = 0.2, random_state = 4)\n",
        "\n",
        "clf = Ridge(alpha=1.0)\n",
        "clf.fit(train_data, train_labels)\n",
        "\n",
        "clf.score(test_data,test_labels)\n"
      ],
      "metadata": {
        "colab": {
          "base_uri": "https://localhost:8080/"
        },
        "id": "0melcAXOY3Sp",
        "outputId": "c7b7deb8-a610-4d2a-a002-0f7ed0920313"
      },
      "execution_count": null,
      "outputs": [
        {
          "output_type": "execute_result",
          "data": {
            "text/plain": [
              "0.49899780661014836"
            ]
          },
          "metadata": {},
          "execution_count": 124
        }
      ]
    }
  ]
}